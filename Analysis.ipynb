{
 "cells": [
  {
   "cell_type": "code",
   "execution_count": 1,
   "metadata": {},
   "outputs": [],
   "source": [
    "%load_ext rpy2.ipython"
   ]
  },
  {
   "cell_type": "code",
   "execution_count": 3,
   "metadata": {},
   "outputs": [],
   "source": [
    "%%R\n",
    "library(dplyr)\n",
    "library(scales)\n",
    "library(grid)\n",
    "library(ggplot2)\n",
    "library(gridExtra)\n",
    "library(magrittr)\n",
    "library(readr)\n",
    "library(ggsignif)\n",
    "library(readxl)"
   ]
  },
  {
   "cell_type": "code",
   "execution_count": 4,
   "metadata": {},
   "outputs": [
    {
     "name": "stderr",
     "output_type": "stream",
     "text": [
      "R[write to console]: Parsed with column specification:\n",
      "cols(\n",
      "  .default = col_double(),\n",
      "  SampleName = \u001b[31mcol_character()\u001b[39m,\n",
      "  Species = \u001b[31mcol_character()\u001b[39m,\n",
      "  CommonName = \u001b[31mcol_character()\u001b[39m,\n",
      "  CollectionLocation = \u001b[31mcol_character()\u001b[39m,\n",
      "  Health = \u001b[31mcol_character()\u001b[39m,\n",
      "  SampleType = \u001b[31mcol_character()\u001b[39m,\n",
      "  SampleAmount = \u001b[31mcol_character()\u001b[39m,\n",
      "  Elution = \u001b[31mcol_character()\u001b[39m\n",
      ")\n",
      "\n",
      "R[write to console]: See spec(...) for full column specifications.\n",
      "\n"
     ]
    },
    {
     "name": "stdout",
     "output_type": "stream",
     "text": [
      "Observations: 219\n",
      "Variables: 22\n",
      "$ SampleName         \u001b[3m\u001b[90m<chr>\u001b[39m\u001b[23m \"SML42\", \"OGL2\", \"MYA49\", \"SML214\", \"SML08\", \"MYA5…\n",
      "$ Species            \u001b[3m\u001b[90m<chr>\u001b[39m\u001b[23m \"Asterias vulgaris\", \"Asterias forbesi\", \"Asterias…\n",
      "$ CommonName         \u001b[3m\u001b[90m<chr>\u001b[39m\u001b[23m \"Northern Star\", \"Forbes Star\", \"Forbes Star\", \"No…\n",
      "$ CollectionLocation \u001b[3m\u001b[90m<chr>\u001b[39m\u001b[23m \"SML\", \"MA\", \"SC\", \"SML\", \"SML\", \"SC\", \"MA\", \"SC\",…\n",
      "$ CollectionYear     \u001b[3m\u001b[90m<dbl>\u001b[39m\u001b[23m 2016, 2016, 2012, 2016, 2016, 2013, 2016, 2012, 20…\n",
      "$ Health             \u001b[3m\u001b[90m<chr>\u001b[39m\u001b[23m \"Aymptomatic\", \"Aymptomatic\", \"Symptomatic\", \"Aymp…\n",
      "$ AnimalSize         \u001b[3m\u001b[90m<dbl>\u001b[39m\u001b[23m 6.2, 6.0, NA, 7.0, 7.0, NA, 6.5, NA, 5.5, NA, 8.3,…\n",
      "$ SampleType         \u001b[3m\u001b[90m<chr>\u001b[39m\u001b[23m \"E\", \"G\", \"G\", \"E\", \"E\", \"G\", \"G\", \"E\", \"E\", \"PC\",…\n",
      "$ SampleAmount       \u001b[3m\u001b[90m<chr>\u001b[39m\u001b[23m \"66.5 mg\", \"77.6 mg\", \"75.5 mg\", \"82.5 mg\", \"72.1 …\n",
      "$ Elution            \u001b[3m\u001b[90m<chr>\u001b[39m\u001b[23m \"30 ul\", \"30 ul\", \"30 ul\", \"30 ul\", \"30 ul\", \"30 u…\n",
      "$ `eff%`             \u001b[3m\u001b[90m<dbl>\u001b[39m\u001b[23m 71.804, 84.295, 132.787, 79.865, 71.804, 132.787, …\n",
      "$ `R2 standards`     \u001b[3m\u001b[90m<dbl>\u001b[39m\u001b[23m 0.960, 0.971, 0.984, 0.956, 0.960, 0.984, 0.983, 0…\n",
      "$ `run#`             \u001b[3m\u001b[90m<dbl>\u001b[39m\u001b[23m 5, 1, 10, 6, 5, 10, 3, 9, 8, 10, 5, 3, 3, 4, 10, 9…\n",
      "$ pico               \u001b[3m\u001b[90m<dbl>\u001b[39m\u001b[23m 16.71678, 1612.28124, NA, NA, 10.88424, NA, NA, 13…\n",
      "$ `Ct mean`          \u001b[3m\u001b[90m<dbl>\u001b[39m\u001b[23m 43.20084, 39.33184, 30.44560, 37.51049, 42.99779, …\n",
      "$ `Ct SD`            \u001b[3m\u001b[90m<dbl>\u001b[39m\u001b[23m 0.04584498, 0.27642667, 0.10373115, 0.50766116, 0.…\n",
      "$ `Quantity Mean`    \u001b[3m\u001b[90m<dbl>\u001b[39m\u001b[23m 47.29274, 39.33184, 57.00639, 63.33827, 56.08765, …\n",
      "$ `Quantity SD`      \u001b[3m\u001b[90m<dbl>\u001b[39m\u001b[23m 1.1732442, 0.2764267, 4.9901142, 18.6012135, 26.84…\n",
      "$ cal_viralload      \u001b[3m\u001b[90m<dbl>\u001b[39m\u001b[23m 40.00, 41.60, 42.47, 43.19, 43.76, 47.43, 48.62, 4…\n",
      "$ standarderror      \u001b[3m\u001b[90m<dbl>\u001b[39m\u001b[23m 0.83, 6.83, 3.53, 13.15, 18.98, 1.30, 0.35, 6.80, …\n",
      "$ Log                \u001b[3m\u001b[90m<dbl>\u001b[39m\u001b[23m 1.60, 1.62, 1.63, 1.64, 1.64, 1.68, 1.69, 1.69, 1.…\n",
      "$ squareroot         \u001b[3m\u001b[90m<dbl>\u001b[39m\u001b[23m 6.32, 6.45, 6.52, 6.57, 6.61, 6.89, 6.97, 7.03, 7.…\n"
     ]
    }
   ],
   "source": [
    "%%R\n",
    "data = read_csv(\"data/AfaDVload.csv\")\n",
    "\n",
    "data = tbl_df(data)\n",
    "\n",
    "glimpse(data)"
   ]
  },
  {
   "cell_type": "code",
   "execution_count": 11,
   "metadata": {},
   "outputs": [
    {
     "name": "stdout",
     "output_type": "stream",
     "text": [
      "Observations: 368\n",
      "Variables: 16\n",
      "$ `Sample#`          \u001b[3m\u001b[90m<chr>\u001b[39m\u001b[23m \"OGL1\", \"OGL2\", \"OGL3\", \"OGL4\", \"OGL5\", \"OGL6\", \"O…\n",
      "$ `Animal#`          \u001b[3m\u001b[90m<dbl>\u001b[39m\u001b[23m 1, 1, 1, 2, 2, 2, 3, 3, 3, 4, 4, 4, 5, 5, 5, 6, 7,…\n",
      "$ CollectionLocation \u001b[3m\u001b[90m<chr>\u001b[39m\u001b[23m \"Nahant, MA\", \"Nahant, MA\", \"Nahant, MA\", \"Nahant,…\n",
      "$ CollectionYear     \u001b[3m\u001b[90m<dttm>\u001b[39m\u001b[23m 2016-07-07, 2016-07-07, 2016-07-07, 2016-07-07, 2…\n",
      "$ Species            \u001b[3m\u001b[90m<chr>\u001b[39m\u001b[23m \"Asterias forbesi\", \"Asterias forbesi\", \"Asterias …\n",
      "$ SampleType         \u001b[3m\u001b[90m<chr>\u001b[39m\u001b[23m \"Pyloric caeca\", \"Gonads\", \"Body Wall\", \"Pyloric c…\n",
      "$ Health             \u001b[3m\u001b[90m<chr>\u001b[39m\u001b[23m \"Healthy\", \"Healthy\", \"Healthy\", \"Healthy\", \"Healt…\n",
      "$ Sex                \u001b[3m\u001b[90m<chr>\u001b[39m\u001b[23m \"NA\", \"NA\", \"NA\", \"NA\", \"NA\", \"NA\", \"NA\", \"NA\", \"N…\n",
      "$ AnimalSize         \u001b[3m\u001b[90m<chr>\u001b[39m\u001b[23m \"6\", \"6\", \"6\", \"5\", \"5\", \"5\", \"4.7\", \"4.7\", \"4.7\",…\n",
      "$ CollVessel         \u001b[3m\u001b[90m<chr>\u001b[39m\u001b[23m \"2 mL\", \"2 mL\", \"2 mL\", \"2 mL\", \"2 mL\", \"2 mL\", \"2…\n",
      "$ OGLSampleID        \u001b[3m\u001b[90m<chr>\u001b[39m\u001b[23m \"S23233\", \"S23233\", \"S23233\", \"S23234\", \"S23234\", …\n",
      "$ `Subsample(mg)`    \u001b[3m\u001b[90m<chr>\u001b[39m\u001b[23m \"64.8\", \"77.599999999999994\", \"70.3\", \"64.59999999…\n",
      "$ DNAExtractionKit   \u001b[3m\u001b[90m<chr>\u001b[39m\u001b[23m \"Zymo Tissue & Insect\", \"Zymo Tissue & Insect\", \"Z…\n",
      "$ `DNAconc(ng/ul)`   \u001b[3m\u001b[90m<chr>\u001b[39m\u001b[23m \"12.332911406250002\", \"49.642235999999997\", \"1.019…\n",
      "$ Analysis           \u001b[3m\u001b[90m<chr>\u001b[39m\u001b[23m \"qPCR\", \"qPCR\", \"qPCR\", \"qPCR\", \"qPCR\", \"qPCR\", \"q…\n",
      "$ LogViralLoad       \u001b[3m\u001b[90m<chr>\u001b[39m\u001b[23m \"3.71\", \"1.62\", \"2.09\", \"4.28\", \"1.979942765382400…\n"
     ]
    }
   ],
   "source": [
    "%%R\n",
    "data2 = read_excel(\"data/Sample Metadata Full.xlsx\")\n",
    "\n",
    "data2 = tbl_df(data2)\n",
    "\n",
    "glimpse(data2)"
   ]
  },
  {
   "cell_type": "code",
   "execution_count": 18,
   "metadata": {},
   "outputs": [
    {
     "name": "stdout",
     "output_type": "stream",
     "text": [
      "Observations: 265\n",
      "Variables: 16\n",
      "$ `Sample#`          \u001b[3m\u001b[90m<chr>\u001b[39m\u001b[23m \"OGL1\", \"OGL2\", \"OGL3\", \"OGL4\", \"OGL5\", \"OGL6\", \"O…\n",
      "$ `Animal#`          \u001b[3m\u001b[90m<dbl>\u001b[39m\u001b[23m 1, 1, 1, 2, 2, 2, 3, 3, 3, 4, 4, 4, 5, 5, 5, 6, 7,…\n",
      "$ CollectionLocation \u001b[3m\u001b[90m<chr>\u001b[39m\u001b[23m \"Nahant, MA\", \"Nahant, MA\", \"Nahant, MA\", \"Nahant,…\n",
      "$ CollectionYear     \u001b[3m\u001b[90m<dttm>\u001b[39m\u001b[23m 2016-07-07, 2016-07-07, 2016-07-07, 2016-07-07, 2…\n",
      "$ Species            \u001b[3m\u001b[90m<chr>\u001b[39m\u001b[23m \"Asterias forbesi\", \"Asterias forbesi\", \"Asterias …\n",
      "$ SampleType         \u001b[3m\u001b[90m<chr>\u001b[39m\u001b[23m \"Pyloric caeca\", \"Gonads\", \"Body Wall\", \"Pyloric c…\n",
      "$ Health             \u001b[3m\u001b[90m<chr>\u001b[39m\u001b[23m \"Healthy\", \"Healthy\", \"Healthy\", \"Healthy\", \"Healt…\n",
      "$ Sex                \u001b[3m\u001b[90m<chr>\u001b[39m\u001b[23m \"NA\", \"NA\", \"NA\", \"NA\", \"NA\", \"NA\", \"NA\", \"NA\", \"N…\n",
      "$ AnimalSize         \u001b[3m\u001b[90m<dbl>\u001b[39m\u001b[23m 6.0, 6.0, 6.0, 5.0, 5.0, 5.0, 4.7, 4.7, 4.7, 4.8, …\n",
      "$ CollVessel         \u001b[3m\u001b[90m<chr>\u001b[39m\u001b[23m \"2 mL\", \"2 mL\", \"2 mL\", \"2 mL\", \"2 mL\", \"2 mL\", \"2…\n",
      "$ OGLSampleID        \u001b[3m\u001b[90m<chr>\u001b[39m\u001b[23m \"S23233\", \"S23233\", \"S23233\", \"S23234\", \"S23234\", …\n",
      "$ `Subsample(mg)`    \u001b[3m\u001b[90m<chr>\u001b[39m\u001b[23m \"64.8\", \"77.599999999999994\", \"70.3\", \"64.59999999…\n",
      "$ DNAExtractionKit   \u001b[3m\u001b[90m<chr>\u001b[39m\u001b[23m \"Zymo Tissue & Insect\", \"Zymo Tissue & Insect\", \"Z…\n",
      "$ `DNAconc(ng/ul)`   \u001b[3m\u001b[90m<chr>\u001b[39m\u001b[23m \"12.332911406250002\", \"49.642235999999997\", \"1.019…\n",
      "$ Analysis           \u001b[3m\u001b[90m<chr>\u001b[39m\u001b[23m \"qPCR\", \"qPCR\", \"qPCR\", \"qPCR\", \"qPCR\", \"qPCR\", \"q…\n",
      "$ LogViralLoad       \u001b[3m\u001b[90m<dbl>\u001b[39m\u001b[23m 3.710000, 1.620000, 2.090000, 4.280000, 1.979943, …\n"
     ]
    }
   ],
   "source": [
    "%%R\n",
    "data2$SampleType = as.character(data2$SampleType)\n",
    "data2$LogViralLoad = as.numeric(as.character(data2$LogViralLoad))\n",
    "data2$AnimalSize = as.numeric(as.character(data2$AnimalSize))\n",
    "glimpse(data2)"
   ]
  },
  {
   "cell_type": "code",
   "execution_count": 32,
   "metadata": {},
   "outputs": [],
   "source": [
    "%%R\n",
    "data$SampleType = as.factor(data$SampleType)"
   ]
  },
  {
   "cell_type": "code",
   "execution_count": 33,
   "metadata": {},
   "outputs": [
    {
     "name": "stdout",
     "output_type": "stream",
     "text": [
      "  [1] E    G    G    E    E    G    G    E    E    PC   G    E    G    G    G   \n",
      " [16] E    E    E    <NA> E    G    G    E    E    G    PC   PC   E    E    E   \n",
      " [31] G    E    E    PC   E    G    E    E    PC   G    PC   E    G    PC   <NA>\n",
      " [46] E    G    E    PC   E    E    G    G    E    PC   E    G    E    E    E   \n",
      " [61] G    E    E    PC   E    E    PC   E    G    PC   E    G    G    E    PC  \n",
      " [76] PC   PC   PC   E    <NA> G    PC   PC   PC   G    G    G    PC   PC   PC  \n",
      " [91] E    PC   PC   PC   E    PC   PC   <NA> <NA> E    PC   E    PC   PC   E   \n",
      "[106] PC   E    PC   <NA> G    <NA> PC   PC   PC   G    G    G    PC   E    G   \n",
      "[121] E    PC   E    E    PC   PC   G    PC   E    G    E    E    PC   <NA> E   \n",
      "[136] E    G    G    E    PC   E    PC   E    E    PC   PC   E    E    PC   E   \n",
      "[151] PC   PC   E    PC   E    E    G    PC   G    PC   E    E    E    PC   E   \n",
      "[166] G    E    E    PC   PC   <NA> E    PC   PC   E    PC   PC   <NA> PC   PC  \n",
      "[181] PC   <NA> PC   <NA> PC   PC   <NA> <NA> PC   PC   PC   PC   PC   <NA> PC  \n",
      "[196] <NA> <NA> E    PC   <NA> PC   PC   PC   PC   PC   PC   <NA> PC   PC   E   \n",
      "[211] PC   PC   PC   PC   PC   PC   PC   PC   PC  \n",
      "Levels: E G PC\n"
     ]
    }
   ],
   "source": [
    "%%R\n",
    "data$SampleType"
   ]
  },
  {
   "cell_type": "code",
   "execution_count": 34,
   "metadata": {},
   "outputs": [
    {
     "name": "stdout",
     "output_type": "stream",
     "text": [
      "\u001b[90m# A tibble: 200 x 22\u001b[39m\n",
      "   SampleName Species CommonName CollectionLocat… CollectionYear Health\n",
      "   \u001b[3m\u001b[90m<chr>\u001b[39m\u001b[23m      \u001b[3m\u001b[90m<chr>\u001b[39m\u001b[23m   \u001b[3m\u001b[90m<chr>\u001b[39m\u001b[23m      \u001b[3m\u001b[90m<chr>\u001b[39m\u001b[23m                     \u001b[3m\u001b[90m<dbl>\u001b[39m\u001b[23m \u001b[3m\u001b[90m<chr>\u001b[39m\u001b[23m \n",
      "\u001b[90m 1\u001b[39m SML42      Asteri… Northern … SML                        \u001b[4m2\u001b[24m016 Aympt…\n",
      "\u001b[90m 2\u001b[39m OGL2       Asteri… Forbes St… MA                         \u001b[4m2\u001b[24m016 Aympt…\n",
      "\u001b[90m 3\u001b[39m MYA49      Asteri… Forbes St… SC                         \u001b[4m2\u001b[24m012 Sympt…\n",
      "\u001b[90m 4\u001b[39m SML214     Asteri… Northern … SML                        \u001b[4m2\u001b[24m016 Aympt…\n",
      "\u001b[90m 5\u001b[39m SML08      Asteri… Northern … SML                        \u001b[4m2\u001b[24m016 Aympt…\n",
      "\u001b[90m 6\u001b[39m MYA58      Asteri… Forbes St… SC                         \u001b[4m2\u001b[24m013 Sympt…\n",
      "\u001b[90m 7\u001b[39m OGL81      Asteri… Forbes St… MA                         \u001b[4m2\u001b[24m016 Aympt…\n",
      "\u001b[90m 8\u001b[39m MYA14      Asteri… Forbes St… SC                         \u001b[4m2\u001b[24m012 Sympt…\n",
      "\u001b[90m 9\u001b[39m SML155     Asteri… Northern … SML                        \u001b[4m2\u001b[24m016 Aympt…\n",
      "\u001b[90m10\u001b[39m NEA5       Asteri… Northern … MA                         \u001b[4m2\u001b[24m016 Sympt…\n",
      "\u001b[90m# … with 190 more rows, and 16 more variables: AnimalSize \u001b[3m\u001b[90m<dbl>\u001b[90m\u001b[23m,\n",
      "#   SampleType \u001b[3m\u001b[90m<fct>\u001b[90m\u001b[23m, SampleAmount \u001b[3m\u001b[90m<chr>\u001b[90m\u001b[23m, Elution \u001b[3m\u001b[90m<chr>\u001b[90m\u001b[23m, `eff%` \u001b[3m\u001b[90m<dbl>\u001b[90m\u001b[23m, `R2\n",
      "#   standards` \u001b[3m\u001b[90m<dbl>\u001b[90m\u001b[23m, `run#` \u001b[3m\u001b[90m<dbl>\u001b[90m\u001b[23m, pico \u001b[3m\u001b[90m<dbl>\u001b[90m\u001b[23m, `Ct mean` \u001b[3m\u001b[90m<dbl>\u001b[90m\u001b[23m, `Ct SD` \u001b[3m\u001b[90m<dbl>\u001b[90m\u001b[23m,\n",
      "#   `Quantity Mean` \u001b[3m\u001b[90m<dbl>\u001b[90m\u001b[23m, `Quantity SD` \u001b[3m\u001b[90m<dbl>\u001b[90m\u001b[23m, cal_viralload \u001b[3m\u001b[90m<dbl>\u001b[90m\u001b[23m,\n",
      "#   standarderror \u001b[3m\u001b[90m<dbl>\u001b[90m\u001b[23m, Log \u001b[3m\u001b[90m<dbl>\u001b[90m\u001b[23m, squareroot \u001b[3m\u001b[90m<dbl>\u001b[90m\u001b[23m\u001b[39m\n"
     ]
    }
   ],
   "source": [
    "%%R\n",
    "qPCR = data %>%\n",
    "  filter(!is.na(SampleType))\n",
    "qPCR"
   ]
  },
  {
   "cell_type": "code",
   "execution_count": 35,
   "metadata": {},
   "outputs": [
    {
     "name": "stdout",
     "output_type": "stream",
     "text": [
      "  [1] TRUE TRUE TRUE TRUE TRUE TRUE TRUE TRUE TRUE TRUE TRUE TRUE TRUE TRUE TRUE\n",
      " [16] TRUE TRUE TRUE TRUE TRUE TRUE TRUE TRUE TRUE TRUE TRUE TRUE TRUE TRUE TRUE\n",
      " [31] TRUE TRUE TRUE TRUE TRUE TRUE TRUE TRUE TRUE TRUE TRUE TRUE TRUE TRUE TRUE\n",
      " [46] TRUE TRUE TRUE TRUE TRUE TRUE TRUE TRUE TRUE TRUE TRUE TRUE TRUE TRUE TRUE\n",
      " [61] TRUE TRUE TRUE TRUE TRUE TRUE TRUE TRUE TRUE TRUE TRUE TRUE TRUE TRUE TRUE\n",
      " [76] TRUE TRUE TRUE TRUE TRUE TRUE TRUE TRUE TRUE TRUE TRUE TRUE TRUE TRUE TRUE\n",
      " [91] TRUE TRUE TRUE TRUE TRUE TRUE TRUE TRUE TRUE TRUE TRUE TRUE TRUE TRUE TRUE\n",
      "[106] TRUE TRUE TRUE TRUE TRUE TRUE TRUE TRUE TRUE TRUE TRUE TRUE TRUE TRUE TRUE\n",
      "[121] TRUE TRUE TRUE TRUE TRUE TRUE TRUE TRUE TRUE TRUE TRUE TRUE TRUE TRUE TRUE\n",
      "[136] TRUE TRUE TRUE TRUE TRUE TRUE TRUE TRUE TRUE TRUE TRUE TRUE TRUE TRUE TRUE\n",
      "[151] TRUE TRUE TRUE TRUE TRUE TRUE TRUE TRUE TRUE TRUE TRUE TRUE TRUE TRUE TRUE\n",
      "[166] TRUE TRUE TRUE TRUE TRUE TRUE TRUE TRUE TRUE TRUE TRUE TRUE TRUE TRUE TRUE\n",
      "[181] TRUE TRUE TRUE TRUE TRUE TRUE TRUE TRUE TRUE TRUE TRUE TRUE TRUE TRUE TRUE\n",
      "[196] TRUE TRUE TRUE TRUE TRUE\n"
     ]
    }
   ],
   "source": [
    "%%R\n",
    "is.finite(qPCR$SampleType)"
   ]
  },
  {
   "cell_type": "code",
   "execution_count": 36,
   "metadata": {},
   "outputs": [
    {
     "name": "stdout",
     "output_type": "stream",
     "text": [
      "\u001b[90m# A tibble: 3 x 4\u001b[39m\n",
      "  SampleType   avg    sd    sem\n",
      "  \u001b[3m\u001b[90m<fct>\u001b[39m\u001b[23m      \u001b[3m\u001b[90m<dbl>\u001b[39m\u001b[23m \u001b[3m\u001b[90m<dbl>\u001b[39m\u001b[23m  \u001b[3m\u001b[90m<dbl>\u001b[39m\u001b[23m\n",
      "\u001b[90m1\u001b[39m PC          3.31 0.937 0.099\u001b[4m9\u001b[24m\n",
      "\u001b[90m2\u001b[39m E           2.56 0.665 0.077\u001b[4m9\u001b[24m\n",
      "\u001b[90m3\u001b[39m G           2.34 0.528 0.084\u001b[4m5\u001b[24m\n"
     ]
    }
   ],
   "source": [
    "%%R\n",
    "qPCRsummary = qPCR %>%\n",
    " group_by(SampleType) %>%\n",
    " filter(SampleType %in% c(\"G\",\"PC\",\"E\")) %>%\n",
    " summarise(avg = mean(Log), sd = sd(Log), sem = sd(Log)/sqrt(length(Log))) %>%\n",
    " arrange(desc(avg))\n",
    "\n",
    "qPCRsummary"
   ]
  },
  {
   "cell_type": "markdown",
   "metadata": {},
   "source": [
    "## ANOVA followed by Games-Howell or Tukey Post Hoc on Log10 values"
   ]
  },
  {
   "cell_type": "markdown",
   "metadata": {},
   "source": [
    "#### ANOVA"
   ]
  },
  {
   "cell_type": "code",
   "execution_count": 37,
   "metadata": {},
   "outputs": [
    {
     "name": "stdout",
     "output_type": "stream",
     "text": [
      "             Df Sum Sq Mean Sq F value   Pr(>F)    \n",
      "SampleType    2  35.11  17.556   29.11 8.38e-12 ***\n",
      "Residuals   197 118.80   0.603                     \n",
      "---\n",
      "Signif. codes:  0 ‘***’ 0.001 ‘**’ 0.01 ‘*’ 0.05 ‘.’ 0.1 ‘ ’ 1\n"
     ]
    }
   ],
   "source": [
    "%%R \n",
    "qPCR.log.aov = aov(Log~SampleType,data=qPCR,var.equal=TRUE)\n",
    "summary(qPCR.log.aov)"
   ]
  },
  {
   "cell_type": "markdown",
   "metadata": {},
   "source": [
    "#### Normal distribution of data. Variances look equal between categories but it is very close to being unequal"
   ]
  },
  {
   "cell_type": "code",
   "execution_count": 65,
   "metadata": {
    "scrolled": true
   },
   "outputs": [
    {
     "data": {
      "image/png": "[encoded data removed]"
     },
     "metadata": {},
     "output_type": "display_data"
    }
   ],
   "source": [
    "%%R -h 300\n",
    "par(mfrow=c(1,2))\n",
    "\n",
    "q = qqnorm(resid(qPCR.log.aov),cex=1.2)\n",
    "qqline(resid(qPCR.log.aov))\n",
    "\n",
    "p = boxplot(split(resid(qPCR.log.aov),qPCR$SampleType),ylab=\"Residuals\",col=2)\n",
    "title(\"Residuals by Tissue Type\")"
   ]
  },
  {
   "cell_type": "markdown",
   "metadata": {},
   "source": [
    "#### Games-Howell Post Hoc"
   ]
  },
  {
   "cell_type": "code",
   "execution_count": 71,
   "metadata": {},
   "outputs": [
    {
     "name": "stdout",
     "output_type": "stream",
     "text": [
      "    n means variances\n",
      "E  73   2.6      0.44\n",
      "G  39   2.3      0.28\n",
      "PC 88   3.3      0.88\n",
      "\n",
      "       t  df       p\n",
      "E:G  1.9  94 1.3e-01\n",
      "E:PC 5.9 156 5.6e-08\n",
      "G:PC 7.4 118 5.2e-11\n"
     ]
    }
   ],
   "source": [
    "%%R\n",
    "\n",
    "#def function: Games-Howell post hoc\n",
    "\n",
    "posthoc.tgh <- function(y, x, method=c(\"games-howell\", \"tukey\"), digits=2) {\n",
    "  ### Based on http://www.psych.yorku.ca/cribbie/6130/games_howell.R\n",
    "  method <- tolower(method);\n",
    "  tryCatch(method <- match.arg(method), error=function(err) {\n",
    "    stop(\"Argument for 'method' not valid!\");\n",
    "  });\n",
    "\n",
    "  res <- list(input = list(x=x, y=y, method=method, digits=digits));\n",
    "\n",
    "  res$intermediate <- list(x = factor(x[complete.cases(x,y)]),\n",
    "                               y = y[complete.cases(x,y)]);\n",
    "      res$intermediate$n <- tapply(y, x, length);\n",
    "      res$intermediate$groups <- length(res$intermediate$n);\n",
    "      res$intermediate$df <- sum(res$intermediate$n) - res$intermediate$groups;\n",
    "      res$intermediate$means <- tapply(y, x, mean);\n",
    "      res$intermediate$variances <- tapply(y, x, var);\n",
    "\n",
    "  res$intermediate$pairNames <- combn(levels(res$intermediate$x),\n",
    "                                      2, paste0, collapse=\":\");\n",
    "\n",
    "  res$intermediate$descriptives <- cbind(res$intermediate$n,\n",
    "                                         res$intermediate$means,\n",
    "                                         res$intermediate$variances);\n",
    "  rownames(res$intermediate$descriptives) <- levels(res$intermediate$x);\n",
    "  colnames(res$intermediate$descriptives) <- c('n', 'means', 'variances');\n",
    "\n",
    "  ### Start on Tukey\n",
    "  res$intermediate$errorVariance <-\n",
    "    sum((res$intermediate$n-1) * res$intermediate$variances) /\n",
    "    res$intermediate$df;\n",
    "  res$intermediate$t <- combn(res$intermediate$groups, 2, function(ij) {\n",
    "    abs(diff(res$intermediate$means[ij]))/\n",
    "      sqrt(res$intermediate$errorVariance*sum(1/res$intermediate$n[ij]));\n",
    "  } );\n",
    "  res$intermediate$p.tukey <- ptukey(res$intermediate$t*sqrt(2),\n",
    "                                     res$intermediate$groups,\n",
    "                                     res$intermediate$df,\n",
    "                                     lower.tail=FALSE);\n",
    "    res$output <- list();\n",
    "      res$output$tukey <- cbind(res$intermediate$t,\n",
    "                                res$intermediate$df,\n",
    "                                res$intermediate$p.tukey)                                     \n",
    "      rownames(res$output$tukey) <- res$intermediate$pairNames;\n",
    "      colnames(res$output$tukey) <- c('t', 'df', 'p');\n",
    "\n",
    "  ### Start on Games-Howell\n",
    "  res$intermediate$df.corrected <- combn(res$intermediate$groups, 2, function(ij) {               \n",
    "    sum(res$intermediate$variances[ij] /\n",
    "          res$intermediate$n[ij])^2 / \n",
    "      sum((res$intermediate$variances[ij] /\n",
    "             res$intermediate$n[ij])^2 / \n",
    "            (res$intermediate$n[ij]-1));\n",
    "  } );\n",
    "  res$intermediate$t.corrected <- combn(res$intermediate$groups, 2, function(ij) {               \n",
    "    abs(diff(res$intermediate$means[ij]))/\n",
    "      sqrt(sum(res$intermediate$variances[ij] /\n",
    "                 res$intermediate$n[ij]));\n",
    "  } );    \n",
    "  res$intermediate$p.gameshowell <- ptukey(res$intermediate$t.corrected*sqrt(2),\n",
    "                                           res$intermediate$groups,\n",
    "                                           res$intermediate$df.corrected,\n",
    "                                           lower.tail=FALSE)  \n",
    "  res$output$games.howell <- cbind(res$intermediate$t.corrected,\n",
    "                                   res$intermediate$df.corrected,\n",
    "                                   res$intermediate$p.gameshowell);\n",
    "  rownames(res$output$games.howell) <- res$intermediate$pairNames;\n",
    "  colnames(res$output$games.howell) <- c('t', 'df', 'p');\n",
    "\n",
    "  ### Set class and return object\n",
    "  class(res) <- 'posthocTukeyGamesHowell';\n",
    "  return(res);\n",
    "\n",
    "}\n",
    "\n",
    "print.posthocTukeyGamesHowell <- function(x, digits=x$input$digits, ...) {\n",
    "  print(x$intermediate$descriptives, digits=digits);\n",
    "  cat('\\n');\n",
    "  if (x$input$method == 'tukey') {\n",
    "    print(x$output$tukey);\n",
    "  }\n",
    "  else if (x$input$method == 'games-howell') {\n",
    "    print(x$output$games.howell, digits=digits);\n",
    "  }\n",
    "}\n",
    "\n",
    "posthoc.tgh(y=qPCR$Log, x=qPCR$SampleType);"
   ]
  },
  {
   "cell_type": "markdown",
   "metadata": {},
   "source": [
    "#### Tukey's Test"
   ]
  },
  {
   "cell_type": "code",
   "execution_count": 85,
   "metadata": {},
   "outputs": [
    {
     "name": "stdout",
     "output_type": "stream",
     "text": [
      "  Tukey multiple comparisons of means\n",
      "    95% family-wise confidence level\n",
      "\n",
      "Fit: aov(formula = Log ~ SampleType, data = qPCR, var.equal = FALSE)\n",
      "\n",
      "$SampleType\n",
      "           diff        lwr       upr     p adj\n",
      "G-E  -0.2229434 -0.5866883 0.1408014 0.3187234\n",
      "PC-E  0.7511504  0.4608205 1.0414802 0.0000000\n",
      "PC-G  0.9740938  0.6213091 1.3268785 0.0000000\n",
      "\n"
     ]
    }
   ],
   "source": [
    "%%R\n",
    "tukey.test = TukeyHSD(qPCR.log.aov)\n",
    "tukey.test"
   ]
  },
  {
   "cell_type": "markdown",
   "metadata": {},
   "source": [
    "## Kruskal Wallis followed by Pairwise Wilcoxon test"
   ]
  },
  {
   "cell_type": "markdown",
   "metadata": {},
   "source": [
    "#### Kruskal Wallis"
   ]
  },
  {
   "cell_type": "code",
   "execution_count": 66,
   "metadata": {},
   "outputs": [
    {
     "name": "stdout",
     "output_type": "stream",
     "text": [
      "\n",
      "\tKruskal-Wallis rank sum test\n",
      "\n",
      "data:  Log by SampleType\n",
      "Kruskal-Wallis chi-squared = 41.515, df = 2, p-value = 9.665e-10\n",
      "\n"
     ]
    }
   ],
   "source": [
    "%%R\n",
    "kw = kruskal.test(Log ~ SampleType, data = qPCR)\n",
    "kw"
   ]
  },
  {
   "cell_type": "markdown",
   "metadata": {},
   "source": [
    "#### Wilcoxon post hoc "
   ]
  },
  {
   "cell_type": "code",
   "execution_count": 73,
   "metadata": {},
   "outputs": [
    {
     "name": "stdout",
     "output_type": "stream",
     "text": [
      "\n",
      "\tPairwise comparisons using Wilcoxon rank sum test \n",
      "\n",
      "data:  qPCR$Log and qPCR$SampleType \n",
      "\n",
      "   E       G      \n",
      "G  0.26    -      \n",
      "PC 1.5e-06 9.8e-08\n",
      "\n",
      "P value adjustment method: bonferroni \n"
     ]
    }
   ],
   "source": [
    "%%R\n",
    "pairwise.wilcox.test(qPCR$Log,qPCR$SampleType,p.adjust.method=\"bonferroni\")"
   ]
  },
  {
   "cell_type": "markdown",
   "metadata": {},
   "source": [
    "## Figure Plots"
   ]
  },
  {
   "cell_type": "markdown",
   "metadata": {},
   "source": [
    "#### Load Prevalence Data"
   ]
  },
  {
   "cell_type": "code",
   "execution_count": 11,
   "metadata": {},
   "outputs": [
    {
     "name": "stdout",
     "output_type": "stream",
     "text": [
      "  Tissue.Type Absent Present Total Prevalence Prevalence2\n",
      "1          CF     28       0    28       0.00           0\n",
      "2           E     32      73   105       0.70          70\n",
      "3           G     30      39    69       0.57          57\n",
      "4          PC     14      88   102       0.86          86\n"
     ]
    }
   ],
   "source": [
    "%%R\n",
    "qPCRprev = read.csv(\"data/AfaDVprev.csv\")\n",
    "\n",
    "qPCRprev"
   ]
  },
  {
   "cell_type": "code",
   "execution_count": 587,
   "metadata": {},
   "outputs": [
    {
     "data": {
      "text/plain": [
       "\n",
       "Call:\n",
       "lm(formula = Log ~ pico, data = qPCR)\n",
       "\n",
       "Residuals:\n",
       "     Min       1Q   Median       3Q      Max \n",
       "-1.50617 -0.69907 -0.07558  0.60306  1.93140 \n",
       "\n",
       "Coefficients:\n",
       "              Estimate Std. Error t value Pr(>|t|)    \n",
       "(Intercept)  3.1126707  0.0932818  33.368   <2e-16 ***\n",
       "pico        -0.0003890  0.0002164  -1.798   0.0749 .  \n",
       "---\n",
       "Signif. codes:  0 ‘***’ 0.001 ‘**’ 0.01 ‘*’ 0.05 ‘.’ 0.1 ‘ ’ 1\n",
       "\n",
       "Residual standard error: 0.9086 on 113 degrees of freedom\n",
       "  (104 observations deleted due to missingness)\n",
       "Multiple R-squared:  0.02781,\tAdjusted R-squared:  0.01921 \n",
       "F-statistic: 3.232 on 1 and 113 DF,  p-value: 0.07487\n",
       "\n"
      ]
     },
     "metadata": {},
     "output_type": "display_data"
    }
   ],
   "source": [
    "%%R\n",
    "qPCR.pico = lm(Log ~ pico, data = qPCR)\n",
    "summary(qPCR.pico)"
   ]
  },
  {
   "cell_type": "markdown",
   "metadata": {},
   "source": [
    "#### Load PicoGreen Data"
   ]
  },
  {
   "cell_type": "code",
   "execution_count": 97,
   "metadata": {},
   "outputs": [],
   "source": [
    "%%R\n",
    "DNA = read_excel(\"data/DNAconcMetaDataAfaDV.xlsx\")\n",
    "DNA = data.frame(DNA)\n",
    "head(DNA)\n",
    "DNA$SampleType = as.factor(DNA$Sample.Type)\n",
    "DNA$DNAconc = as.numeric(DNA$DNAconc)"
   ]
  },
  {
   "cell_type": "code",
   "execution_count": 101,
   "metadata": {},
   "outputs": [
    {
     "name": "stdout",
     "output_type": "stream",
     "text": [
      "  Sample.. Animal.. Collection.Location Collection.Year          Species\n",
      "1     OGL3        1          Nahant, MA      2016-07-07 Asterias forbesi\n",
      "2     OGL6        2          Nahant, MA      2016-07-07 Asterias forbesi\n",
      "3     OGL9        3          Nahant, MA      2016-07-07 Asterias forbesi\n",
      "4    OGL12        4          Nahant, MA      2016-07-07 Asterias forbesi\n",
      "5    OGL15        5          Nahant, MA      2016-07-07 Asterias forbesi\n",
      "6    OGL27       15          Nahant, MA      2016-07-12 Asterias forbesi\n",
      "  Sample.Type  Health Sex          Size..cm. Coll.Vessel OGL.Sample.ID\n",
      "1   Body Wall Healthy  NA                  6        2 mL        A26951\n",
      "2   Body Wall Healthy  NA                  5        2 mL        A26952\n",
      "3   Body Wall Healthy  NA                4.7        2 mL        A26953\n",
      "4   Body Wall Healthy  NA                4.8        2 mL        A26954\n",
      "5   Body Wall Healthy  NA 4.5999999999999996        2 mL        A26955\n",
      "6   Body Wall Healthy  NA                3.9        2 mL        A26993\n",
      "  Subsample   DNA.Extraction.Kit   DNAconc Analysis SampleType\n",
      "1      70.3 Zymo Tissue & Insect 1.0193891     qPCR  Body Wall\n",
      "2      62.4 Zymo Tissue & Insect 0.5514427     qPCR  Body Wall\n",
      "3      75.0 Zymo Tissue & Insect 0.2421000     qPCR  Body Wall\n",
      "4      70.1 Zymo Tissue & Insect 0.6788621     qPCR  Body Wall\n",
      "5      73.2 Zymo Tissue & Insect 0.5409881     qPCR  Body Wall\n",
      "6      71.1 Zymo Tissue & Insect 0.6746183     qPCR  Body Wall\n"
     ]
    }
   ],
   "source": [
    "%%R\n",
    "DNA = DNA %>%\n",
    "  filter(!is.na(DNAconc))\n",
    "head(DNA)"
   ]
  },
  {
   "cell_type": "code",
   "execution_count": 102,
   "metadata": {},
   "outputs": [
    {
     "name": "stdout",
     "output_type": "stream",
     "text": [
      "\u001b[90m# A tibble: 4 x 5\u001b[39m\n",
      "  Sample.Type        n  mean    sd   sem\n",
      "  \u001b[3m\u001b[90m<chr>\u001b[39m\u001b[23m          \u001b[3m\u001b[90m<int>\u001b[39m\u001b[23m \u001b[3m\u001b[90m<dbl>\u001b[39m\u001b[23m \u001b[3m\u001b[90m<dbl>\u001b[39m\u001b[23m \u001b[3m\u001b[90m<dbl>\u001b[39m\u001b[23m\n",
      "\u001b[90m1\u001b[39m Body Wall         96  4.63  11.7  1.19\n",
      "\u001b[90m2\u001b[39m Coelomic Fluid    36  4.70  10.5  1.75\n",
      "\u001b[90m3\u001b[39m Gonads            69 16.6   20.5  2.46\n",
      "\u001b[90m4\u001b[39m Pyloric caeca     97  6.27  10.2  1.04\n"
     ]
    }
   ],
   "source": [
    "%%R\n",
    "qPCRDNA = DNA %>%\n",
    "  group_by(Sample.Type) %>%\n",
    "  summarize(n= n(),mean = mean(DNAconc),sd = sd(DNAconc),sem = sd(DNAconc)/sqrt(n))\n",
    "qPCRDNA"
   ]
  },
  {
   "cell_type": "markdown",
   "metadata": {},
   "source": [
    "## DNA Concentration Plot"
   ]
  },
  {
   "cell_type": "code",
   "execution_count": 107,
   "metadata": {},
   "outputs": [
    {
     "name": "stderr",
     "output_type": "stream",
     "text": [
      "R[write to console]: Warning:\n",
      "R[write to console]:  Ignoring unknown aesthetics: y\n",
      "\n"
     ]
    },
    {
     "data": {
      "image/png": "[encoded data removed]"
     },
     "metadata": {},
     "output_type": "display_data"
    }
   ],
   "source": [
    "%%R\n",
    "p = ggplot(qPCRDNA, aes(x=reorder(Sample.Type, -mean), y=mean))\n",
    "\n",
    "#p = p + geom_signif(comparisons = list(c(\"Gonads\",\"Body Wall\")),y_position = 25, annotations=\"***\") + \n",
    "#                  geom_signif(comparisons = list(c(\"Gonads\",\"Coelomic Fluid\")),y_position =23 ,annotations=\"**\") +\n",
    "#                  geom_signif(comparisons = list(c(\"Pyloric caeca\",\"Body Wall\")),y_position =15,annotations=\"***\")\n",
    "\n",
    "\n",
    "p = p + geom_errorbar(aes(y = mean, ymin = mean-(2*sem), ymax = mean+(2*sem)), color = \"black\", width = 0.2, data = qPCRDNA)\n",
    "\n",
    "p = p + geom_point(size = 3)\n",
    "\n",
    "p = p + theme_bw() + theme(text=element_text(size=15, color=\"black\",family = \"Times\"),\n",
    "                           axis.title.y=element_text(margin=margin(0,10,0,0)),\n",
    "                           axis.title.x=element_text(margin=margin(15,0,0,0)))\n",
    "\n",
    "p = p + scale_y_continuous(name =\"Mean DNA Concentration (ng/ul)\", limits = c(0,30)) + xlab(\"Sample Type\")\n",
    "\n",
    "p = p + scale_x_discrete(breaks=c(\"Body Wall\", \"Gonads\", \"Pyloric caeca\",\"Coelomic Fluid\"),\n",
    "                         labels=c(\"Body Wall \\n n=96\", \"Gonads \\n n=69\", \n",
    "                                  \"Pyloric Caeca \\n n=97\",\"Coelomic Fluid \\n n=36\"))\n",
    "\n",
    "p"
   ]
  },
  {
   "cell_type": "markdown",
   "metadata": {},
   "source": [
    "## Tissue Type and Prevalence Plot"
   ]
  },
  {
   "cell_type": "code",
   "execution_count": 86,
   "metadata": {
    "scrolled": true
   },
   "outputs": [
    {
     "name": "stderr",
     "output_type": "stream",
     "text": [
      "R[write to console]: Warning:\n",
      "R[write to console]:  Ignoring unknown aesthetics: y\n",
      "\n",
      "R[write to console]: Warning:\n",
      "R[write to console]:  Ignoring unknown aesthetics: ymax\n",
      "\n"
     ]
    },
    {
     "name": "stdout",
     "output_type": "stream",
     "text": [
      "png \n",
      "  2 \n"
     ]
    },
    {
     "data": {
      "image/png": "[encoded data removed]"
     },
     "metadata": {},
     "output_type": "display_data"
    }
   ],
   "source": [
    "%%R -w 1000 -h 300\n",
    "\n",
    "sample = c(\n",
    "            `CF` = \"Coelomic fluid.\",\n",
    "            `E` = \"Body wall\",\n",
    "            `G` = \"Gonad\",\n",
    "            `PC` = \"Pyloric caeca\")\n",
    "\n",
    "####Plot 1#####\n",
    "p = ggplot(subset(qPCR, SampleType %in% c(\"G\",\"PC\",\"E\")), aes(x = SampleType,y = Log))#,color=SampleType))\n",
    "\n",
    "p = p + geom_boxplot(aes(fill = SampleType)) + geom_point(aes(y = Log),size = 1,\n",
    "                   position = position_jitter(width = 0.2, height = 0.1))\n",
    "\n",
    "p = p + scale_color_manual(values = c(\"#999999\",\"#ffff99\",\"#669833\"))\n",
    "\n",
    "p = p + labs(y=expression(log[10]*\"Viral Load (copies mg\"^-1*\")\"))\n",
    "\n",
    "p = p + theme_classic() + theme(text=element_text(size=15, family=\"Times New Roman\",color=\"black\"),\n",
    "                           panel.grid.major = element_blank(),\n",
    "                           panel.grid.minor = element_blank(),\n",
    "                           legend.position=\"none\",\n",
    "                           axis.ticks.x = element_blank(),\n",
    "                           axis.title.y=element_text(margin=margin(0,10,0,0)),\n",
    "                           axis.title.x=element_text(margin=margin(27,0,0,0)))\n",
    "\n",
    "p = p + scale_x_discrete(breaks=c(\"E\", \"G\", \"PC\"), labels=c(\"Body wall\", \"Gonads\", \"Pyloric caeca\"))\n",
    "\n",
    "p = p + scale_y_continuous(limits=c(1, 5.7)) + xlab(\"Sample Type\")\n",
    "\n",
    "p = p + geom_signif(comparisons = list(c(\"G\",\"PC\")),y_position = 5.4, annotations=\"***\") + \n",
    "                   geom_signif(comparisons = list(c(\"G\",\"E\")),y_position = 5,annotations=\"NS\") + \n",
    "                   geom_signif(comparisons = list(c(\"E\",\"PC\")),y_position = 5.7, annotations=\"***\")\n",
    "\n",
    "p = p + scale_fill_manual(values = c(\"#999999\",\"#ffff99\",\"#669833\"))\n",
    "\n",
    "p\n",
    "\n",
    "####Plot 2####\n",
    "p2 = ggplot(qPCRsummary4, aes(x = SampleType,y = avg))\n",
    "\n",
    "p2 = p2 + geom_point(aes(y = avg),size = 3, data = qPCRsummary4) + \n",
    "  geom_errorbar(aes(y = avg, ymin = avg-(1*sem), ymax = avg+(1*sem)), \n",
    "                color = \"black\", width = 0.3, data = qPCRsummary4)\n",
    "\n",
    "p2 = p2 + geom_signif(comparisons = list(c(\"G\",\"PC\")),y_position = 20500, annotations=\"***\") + \n",
    "                   geom_signif(comparisons = list(c(\"G\",\"E\")),y_position = 5000,annotations=\"NS\") + \n",
    "                   geom_signif(comparisons = list(c(\"E\",\"PC\")),y_position = 22000, annotations=\"***\")\n",
    "\n",
    "p2 = p2 + labs(y=expression(\"Viral Load (copies mg\"^-1*\")\")) + xlab(\"Sample Type\")\n",
    "\n",
    "p2 = p2 + theme_classic() + theme(text=element_text(size=12, family=\"Times New Roman\",color=\"black\"),\n",
    "                           panel.grid.major = element_blank(),\n",
    "                           panel.grid.minor = element_blank(),\n",
    "                           legend.position=\"none\",\n",
    "                           axis.ticks.x = element_blank(),\n",
    "                           axis.title.y=element_text(margin=margin(0,10,0,0)),\n",
    "                           axis.title.x=element_text(margin=margin(27,0,0,0)))\n",
    "\n",
    "p2 = p2 + scale_x_discrete(breaks=c(\"E\", \"G\", \"PC\"), labels=c(\"Body wall\", \"Gonads\", \"Pyloric caeca\"))\n",
    "\n",
    "p2\n",
    "\n",
    "####Plot 3#####\n",
    "\n",
    "p3 = ggplot(qPCRprev, aes(x= reorder(Tissue.Type,-Prevalence),fill=Tissue.Type, y=Prevalence))\n",
    "\n",
    "p3 = p3 + geom_bar(stat=\"identity\", color=\"black\")\n",
    "\n",
    "p3 = p3 + scale_x_discrete(breaks=c(\"E\", \"G\", \"PC\",\"CF\"),\n",
    "                         labels=c(\"Body wall \\n n=105\", \"Gonads \\n n=69\", \n",
    "                                  \"Pyloric caeca \\n n=102\",\"Coelomic fluid \\n n=28\"))\n",
    "\n",
    "\n",
    "p3 = p3 + ylab(\"AfDV Prevalence\") + xlab(\"Sample Type\") \n",
    "\n",
    "p3 = p3 + geom_text(aes(x=Tissue.Type, y=Prevalence, ymax=Prevalence,\n",
    "                      label=Prevalence2), vjust = -0.7, size=4.5) \n",
    "\n",
    "p3 = p3 + theme_classic() + theme(text=element_text(size=15, family=\"Times New Roman\",color=\"black\"),\n",
    "                           panel.grid.major = element_blank(),\n",
    "                           panel.grid.minor = element_blank(),\n",
    "                           legend.position=\"none\",\n",
    "                           axis.title.y=element_text(margin=margin(0,10,0,0)),\n",
    "                           axis.title.x=element_text(margin=margin(15,0,0,0)))\n",
    "\n",
    "p3 = p3 + scale_y_continuous(labels = percent,limits=c(0, 1))\n",
    "\n",
    "p3 = p3 + scale_fill_manual(labels = sample,\n",
    "                           values = c(\"CF\" = \"#999999\",\n",
    "                                    \"E\" = \"#999999\",\n",
    "                                    \"G\" = \"#ffff99\",\n",
    "                                    \"PC\" = \"#669833\"))\n",
    "\n",
    "x = grid.arrange(nrow=1, p,p3,widths=c(0.8,1))  ## switch theme_classic to theme_bw to get a border around graphs\n",
    "\n",
    "tiff('AfDV_variables.tiff',width = 8, height =4, units = 'in', res = 500)\n",
    "plot(x)\n",
    "dev.off()"
   ]
  },
  {
   "cell_type": "markdown",
   "metadata": {},
   "source": [
    "## Animal Size "
   ]
  },
  {
   "cell_type": "code",
   "execution_count": 19,
   "metadata": {},
   "outputs": [
    {
     "name": "stdout",
     "output_type": "stream",
     "text": [
      "\u001b[90m# A tibble: 265 x 16\u001b[39m\n",
      "   `Sample#` `Animal#` CollectionLocat… CollectionYear      Species SampleType\n",
      "   \u001b[3m\u001b[90m<chr>\u001b[39m\u001b[23m         \u001b[3m\u001b[90m<dbl>\u001b[39m\u001b[23m \u001b[3m\u001b[90m<chr>\u001b[39m\u001b[23m            \u001b[3m\u001b[90m<dttm>\u001b[39m\u001b[23m              \u001b[3m\u001b[90m<chr>\u001b[39m\u001b[23m   \u001b[3m\u001b[90m<chr>\u001b[39m\u001b[23m     \n",
      "\u001b[90m 1\u001b[39m OGL1              1 Nahant, MA       2016-07-07 \u001b[90m00:00:00\u001b[39m Asteri… Pyloric c…\n",
      "\u001b[90m 2\u001b[39m OGL2              1 Nahant, MA       2016-07-07 \u001b[90m00:00:00\u001b[39m Asteri… Gonads    \n",
      "\u001b[90m 3\u001b[39m OGL3              1 Nahant, MA       2016-07-07 \u001b[90m00:00:00\u001b[39m Asteri… Body Wall \n",
      "\u001b[90m 4\u001b[39m OGL4              2 Nahant, MA       2016-07-07 \u001b[90m00:00:00\u001b[39m Asteri… Pyloric c…\n",
      "\u001b[90m 5\u001b[39m OGL5              2 Nahant, MA       2016-07-07 \u001b[90m00:00:00\u001b[39m Asteri… Gonads    \n",
      "\u001b[90m 6\u001b[39m OGL6              2 Nahant, MA       2016-07-07 \u001b[90m00:00:00\u001b[39m Asteri… Body Wall \n",
      "\u001b[90m 7\u001b[39m OGL7              3 Nahant, MA       2016-07-07 \u001b[90m00:00:00\u001b[39m Asteri… Pyloric c…\n",
      "\u001b[90m 8\u001b[39m OGL8              3 Nahant, MA       2016-07-07 \u001b[90m00:00:00\u001b[39m Asteri… Gonads    \n",
      "\u001b[90m 9\u001b[39m OGL9              3 Nahant, MA       2016-07-07 \u001b[90m00:00:00\u001b[39m Asteri… Body Wall \n",
      "\u001b[90m10\u001b[39m OGL10             4 Nahant, MA       2016-07-07 \u001b[90m00:00:00\u001b[39m Asteri… Pyloric c…\n",
      "\u001b[90m# … with 255 more rows, and 10 more variables: Health \u001b[3m\u001b[90m<chr>\u001b[90m\u001b[23m, Sex \u001b[3m\u001b[90m<chr>\u001b[90m\u001b[23m,\n",
      "#   AnimalSize \u001b[3m\u001b[90m<dbl>\u001b[90m\u001b[23m, CollVessel \u001b[3m\u001b[90m<chr>\u001b[90m\u001b[23m, OGLSampleID \u001b[3m\u001b[90m<chr>\u001b[90m\u001b[23m,\n",
      "#   `Subsample(mg)` \u001b[3m\u001b[90m<chr>\u001b[90m\u001b[23m, DNAExtractionKit \u001b[3m\u001b[90m<chr>\u001b[90m\u001b[23m, `DNAconc(ng/ul)` \u001b[3m\u001b[90m<chr>\u001b[90m\u001b[23m,\n",
      "#   Analysis \u001b[3m\u001b[90m<chr>\u001b[90m\u001b[23m, LogViralLoad \u001b[3m\u001b[90m<dbl>\u001b[90m\u001b[23m\u001b[39m\n"
     ]
    }
   ],
   "source": [
    "%%R\n",
    "data2[data2==0] = NA\n",
    "data2"
   ]
  },
  {
   "cell_type": "code",
   "execution_count": 20,
   "metadata": {},
   "outputs": [
    {
     "name": "stdout",
     "output_type": "stream",
     "text": [
      "\u001b[90m# A tibble: 179 x 16\u001b[39m\n",
      "   `Sample#` `Animal#` CollectionLocat… CollectionYear      Species SampleType\n",
      "   \u001b[3m\u001b[90m<chr>\u001b[39m\u001b[23m         \u001b[3m\u001b[90m<dbl>\u001b[39m\u001b[23m \u001b[3m\u001b[90m<chr>\u001b[39m\u001b[23m            \u001b[3m\u001b[90m<dttm>\u001b[39m\u001b[23m              \u001b[3m\u001b[90m<chr>\u001b[39m\u001b[23m   \u001b[3m\u001b[90m<chr>\u001b[39m\u001b[23m     \n",
      "\u001b[90m 1\u001b[39m OGL1              1 Nahant, MA       2016-07-07 \u001b[90m00:00:00\u001b[39m Asteri… Pyloric c…\n",
      "\u001b[90m 2\u001b[39m OGL2              1 Nahant, MA       2016-07-07 \u001b[90m00:00:00\u001b[39m Asteri… Gonads    \n",
      "\u001b[90m 3\u001b[39m OGL3              1 Nahant, MA       2016-07-07 \u001b[90m00:00:00\u001b[39m Asteri… Body Wall \n",
      "\u001b[90m 4\u001b[39m OGL4              2 Nahant, MA       2016-07-07 \u001b[90m00:00:00\u001b[39m Asteri… Pyloric c…\n",
      "\u001b[90m 5\u001b[39m OGL5              2 Nahant, MA       2016-07-07 \u001b[90m00:00:00\u001b[39m Asteri… Gonads    \n",
      "\u001b[90m 6\u001b[39m OGL6              2 Nahant, MA       2016-07-07 \u001b[90m00:00:00\u001b[39m Asteri… Body Wall \n",
      "\u001b[90m 7\u001b[39m OGL7              3 Nahant, MA       2016-07-07 \u001b[90m00:00:00\u001b[39m Asteri… Pyloric c…\n",
      "\u001b[90m 8\u001b[39m OGL8              3 Nahant, MA       2016-07-07 \u001b[90m00:00:00\u001b[39m Asteri… Gonads    \n",
      "\u001b[90m 9\u001b[39m OGL9              3 Nahant, MA       2016-07-07 \u001b[90m00:00:00\u001b[39m Asteri… Body Wall \n",
      "\u001b[90m10\u001b[39m OGL10             4 Nahant, MA       2016-07-07 \u001b[90m00:00:00\u001b[39m Asteri… Pyloric c…\n",
      "\u001b[90m# … with 169 more rows, and 10 more variables: Health \u001b[3m\u001b[90m<chr>\u001b[90m\u001b[23m, Sex \u001b[3m\u001b[90m<chr>\u001b[90m\u001b[23m,\n",
      "#   AnimalSize \u001b[3m\u001b[90m<dbl>\u001b[90m\u001b[23m, CollVessel \u001b[3m\u001b[90m<chr>\u001b[90m\u001b[23m, OGLSampleID \u001b[3m\u001b[90m<chr>\u001b[90m\u001b[23m,\n",
      "#   `Subsample(mg)` \u001b[3m\u001b[90m<chr>\u001b[90m\u001b[23m, DNAExtractionKit \u001b[3m\u001b[90m<chr>\u001b[90m\u001b[23m, `DNAconc(ng/ul)` \u001b[3m\u001b[90m<chr>\u001b[90m\u001b[23m,\n",
      "#   Analysis \u001b[3m\u001b[90m<chr>\u001b[90m\u001b[23m, LogViralLoad \u001b[3m\u001b[90m<dbl>\u001b[90m\u001b[23m\u001b[39m\n"
     ]
    }
   ],
   "source": [
    "%%R\n",
    "data2 = data2 %>%\n",
    "  filter(!is.na(LogViralLoad)) %>%\n",
    "  filter(!is.na(AnimalSize))\n",
    "data2"
   ]
  },
  {
   "cell_type": "code",
   "execution_count": 42,
   "metadata": {},
   "outputs": [
    {
     "data": {
      "image/png": "[encoded data removed]"
     },
     "metadata": {},
     "output_type": "display_data"
    }
   ],
   "source": [
    "%%R -w 700\n",
    "\n",
    "p = ggplot(data2, aes(x=AnimalSize, y=LogViralLoad)) + geom_point(aes(colour = factor(SampleType)), size = 2.5)\n",
    "\n",
    "p = p + scale_x_continuous(breaks = c(0,2,4,6,8,10,12,14,16)) \n",
    "\n",
    "p = p + scale_color_manual(values=c('#999999','#ffff99','#669833','#000000'))\n",
    "\n",
    "p = p + geom_smooth(method=lm,color=\"black\",aes(fill=SampleType),se=FALSE)\n",
    "\n",
    "p = p + theme_classic() + theme(legend.position = \"none\",\n",
    "                                legend.key = element_blank(),\n",
    "                                text=element_text(size=12),\n",
    "                                axis.title.y=element_text(margin=margin(0,15,0,0)),\n",
    "                                axis.title.x=element_text(margin=margin(10,0,0,0)),\n",
    "                                legend.key.size = unit(0.5, \"cm\"))\n",
    "\n",
    "p = p + labs(y=expression(log[10]*\"Viral Load (copies mg\"^-1*\")\"))\n",
    "\n",
    "p = p + xlab(\"Animal Size (cm)\")\n",
    "\n",
    "#p = p + annotate(\"text\", label = \"y = 3.928=9 - 0.15x \\n r^2 =0.166\", x = 11.8, y = 5, size = 7, colour = \"black\")\n",
    "\n",
    "p"
   ]
  },
  {
   "cell_type": "markdown",
   "metadata": {},
   "source": [
    "#### Pearson's correlation"
   ]
  },
  {
   "cell_type": "code",
   "execution_count": 29,
   "metadata": {},
   "outputs": [
    {
     "name": "stdout",
     "output_type": "stream",
     "text": [
      "\n",
      "\tPearson's product-moment correlation\n",
      "\n",
      "data:  data2$AnimalSize and data2$LogViralLoad\n",
      "t = -5.5089, df = 177, p-value = 1.256e-07\n",
      "alternative hypothesis: true correlation is not equal to 0\n",
      "95 percent confidence interval:\n",
      " -0.5011285 -0.2499283\n",
      "sample estimates:\n",
      "       cor \n",
      "-0.3825762 \n",
      "\n"
     ]
    }
   ],
   "source": [
    "%%R\n",
    "cor.test(data2$AnimalSize, data2$LogViralLoad, method = \"pearson\")"
   ]
  },
  {
   "cell_type": "markdown",
   "metadata": {},
   "source": [
    "## Genome Coverage"
   ]
  },
  {
   "cell_type": "code",
   "execution_count": 93,
   "metadata": {},
   "outputs": [
    {
     "name": "stdout",
     "output_type": "stream",
     "text": [
      "Observations: 6,089\n",
      "Variables: 3\n",
      "$ V1 \u001b[3m\u001b[90m<fct>\u001b[39m\u001b[23m NODE_1_length_6089_cov_35.966, NODE_1_length_6089_cov_35.966, NODE…\n",
      "$ V2 \u001b[3m\u001b[90m<int>\u001b[39m\u001b[23m 0, 1, 2, 3, 4, 5, 6, 7, 8, 9, 10, 11, 12, 13, 14, 15, 16, 17, 18, …\n",
      "$ V3 \u001b[3m\u001b[90m<int>\u001b[39m\u001b[23m 2, 2, 2, 2, 2, 2, 2, 2, 2, 2, 6, 6, 6, 6, 6, 6, 6, 6, 6, 7, 7, 14,…\n"
     ]
    }
   ],
   "source": [
    "%%R\n",
    "basecov = read.table(\"data/bascov-Copy1.txt\")\n",
    "basecov = tbl_df(basecov)\n",
    "glimpse(basecov)"
   ]
  },
  {
   "cell_type": "code",
   "execution_count": 94,
   "metadata": {},
   "outputs": [
    {
     "name": "stderr",
     "output_type": "stream",
     "text": [
      "R[write to console]: Scale for 'y' is already present. Adding another scale for 'y', which will\n",
      "replace the existing scale.\n",
      "\n"
     ]
    },
    {
     "data": {
      "image/png": "[encoded data removed]"
     },
     "metadata": {},
     "output_type": "display_data"
    }
   ],
   "source": [
    "%%R -h 150 -w 1300\n",
    "\n",
    "p = ggplot(basecov,aes(x=V2, y=V3))\n",
    "\n",
    "p = p + geom_bar(fill = \"black\",stat=\"identity\", colour=\"grey\")\n",
    "\n",
    "p = p + ylab(\"Coverage\") + xlab(\"Nucleotide Position\")\n",
    "\n",
    "p = p + geom_hline(yintercept = 532) + scale_y_reverse() \n",
    "\n",
    "p = p + theme_bw() + theme(text=element_text(size=13, color=\"black\"),\n",
    "                           panel.grid.major = element_blank(),\n",
    "                           panel.grid.minor = element_blank(),\n",
    "                           legend.position=\"none\")\n",
    "\n",
    "p = p + scale_x_continuous(limits = c(0,6100), breaks=c(0,1000,2000,3000,4000,5000,6000), expand = c(0, 0))\n",
    "\n",
    "p = p + scale_y_continuous(trans = 'reverse',limits = c(1200,0), expand = c(0, 0))\n",
    "\n",
    "p\n",
    "\n",
    "#pdf('AfDV_Converage.pdf',width = 10, height = 1.5)\n",
    "plot(p)\n",
    "#dev.off()q()"
   ]
  }
 ],
 "metadata": {
  "anaconda-cloud": {},
  "kernelspec": {
   "display_name": "Python 3",
   "language": "python",
   "name": "python3"
  },
  "language_info": {
   "codemirror_mode": {
    "name": "ipython",
    "version": 3
   },
   "file_extension": ".py",
   "mimetype": "text/x-python",
   "name": "python",
   "nbconvert_exporter": "python",
   "pygments_lexer": "ipython3",
   "version": "3.7.4"
  }
 },
 "nbformat": 4,
 "nbformat_minor": 1
}
