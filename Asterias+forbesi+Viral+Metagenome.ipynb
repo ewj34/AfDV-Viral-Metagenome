{
 "cells": [
  {
   "cell_type": "code",
   "execution_count": 1,
   "metadata": {
    "collapsed": true
   },
   "outputs": [],
   "source": [
    "%load_ext rpy2.ipython"
   ]
  },
  {
   "cell_type": "code",
   "execution_count": 3,
   "metadata": {
    "collapsed": true
   },
   "outputs": [],
   "source": [
    "%%R\n",
    "library(ggplot2)\n",
    "library(dplyr)\n",
    "library(gridExtra)\n",
    "library(grid)"
   ]
  },
  {
   "cell_type": "code",
   "execution_count": 4,
   "metadata": {
    "collapsed": true
   },
   "outputs": [],
   "source": [
    "from Bio import SeqIO\n",
    "from IPython.display import FileLink"
   ]
  },
  {
   "cell_type": "markdown",
   "metadata": {},
   "source": [
    "# Interleaving files"
   ]
  },
  {
   "cell_type": "markdown",
   "metadata": {},
   "source": [
    "### Pyloric caeca library"
   ]
  },
  {
   "cell_type": "markdown",
   "metadata": {
    "collapsed": true
   },
   "source": [
    "```\n",
    "!pairs join -t data/6110_5146_27472_AKJ5B_AFPC1_GGACTCCT_CTCTCTAT_R1.fq.gz \\\n",
    "data/6110_5146_27472_AKJ5B_AFPC1_GGACTCCT_CTCTCTAT_R2.fq.gz | pigz -p 20 --fast -c > \\\n",
    "data/AfPC.fq.gz\n",
    "```"
   ]
  },
  {
   "cell_type": "code",
   "execution_count": 6,
   "metadata": {},
   "outputs": [
    {
     "name": "stdout",
     "output_type": "stream",
     "text": [
      "5.1G\tdata/AfPC.fq.gz\r\n"
     ]
    }
   ],
   "source": [
    "!du -h data/AfPC.fq.gz"
   ]
  },
  {
   "cell_type": "markdown",
   "metadata": {},
   "source": [
    "### Epidermis library"
   ]
  },
  {
   "cell_type": "markdown",
   "metadata": {
    "collapsed": true
   },
   "source": [
    "```\n",
    "!pairs join -t data/6361_5146_27473_AKDNM_AFTF1_TAGGCATG_CTCTCTAT_R1.fq.gz \\\n",
    "data/6361_5146_27473_AKDNM_AFTF1_TAGGCATG_CTCTCTAT_R2.fq.gz | pigz -p 20 --fast -c > \\\n",
    "data/AfTF.fq.gz\n",
    "```"
   ]
  },
  {
   "cell_type": "code",
   "execution_count": 7,
   "metadata": {},
   "outputs": [
    {
     "name": "stdout",
     "output_type": "stream",
     "text": [
      "1.6G\tdata/AfTF.fq.gz\r\n"
     ]
    }
   ],
   "source": [
    "!du -h data/AfTF.fq.gz"
   ]
  },
  {
   "cell_type": "markdown",
   "metadata": {},
   "source": [
    "### Both libraries"
   ]
  },
  {
   "cell_type": "markdown",
   "metadata": {
    "collapsed": true
   },
   "source": [
    "```\n",
    "!cat data/AfTF.fq.gz \\\n",
    "data/AfPC.fq.gz > data/Af.fq.gz\n",
    "```"
   ]
  },
  {
   "cell_type": "code",
   "execution_count": 9,
   "metadata": {},
   "outputs": [
    {
     "name": "stdout",
     "output_type": "stream",
     "text": [
      "6.6G\tdata/Af.fq.gz\r\n"
     ]
    }
   ],
   "source": [
    "!du -h data/Af.fq.gz"
   ]
  },
  {
   "cell_type": "markdown",
   "metadata": {
    "collapsed": true
   },
   "source": [
    "# Quality filtering, trimming and contamination removal"
   ]
  },
  {
   "cell_type": "markdown",
   "metadata": {
    "collapsed": true
   },
   "source": [
    "### Pyloric caeca library"
   ]
  },
  {
   "cell_type": "markdown",
   "metadata": {
    "collapsed": true
   },
   "source": [
    "```\n",
    "!bbduk.sh ref=/opt/bbmap/resources/adapters.fa \\\n",
    "in=data/AfPC.fq.gz \\\n",
    "out=data/AfPC.trimmed.fq.gz \\\n",
    "interleaved=t qtrim=rl ktrim=r mink=12 k=23 tbo=t tpe=t\n",
    "```"
   ]
  },
  {
   "cell_type": "markdown",
   "metadata": {},
   "source": [
    "```\n",
    "!bbduk.sh ref=/opt/bbmap/resources/phix174_ill.ref.fa.gz \\\n",
    "in=data/AfPC.trimmed.fq.gz \\\n",
    "out=data/AfPC.trimmed.contam.fq.gz \\\n",
    "interleaved=t\n",
    "```"
   ]
  },
  {
   "cell_type": "markdown",
   "metadata": {},
   "source": [
    "### Epidermis library"
   ]
  },
  {
   "cell_type": "markdown",
   "metadata": {},
   "source": [
    "```\n",
    "!bbduk.sh ref=/opt/bbmap/resources/adapters.fa \\\n",
    "in=data/AfTF.fq.gz \\\n",
    "out=data/AfTF.trimmed.fq.gz \\\n",
    "interleaved=t qtrim=rl ktrim=r mink=12 k=23 tbo=t tpe=t\n",
    "```"
   ]
  },
  {
   "cell_type": "markdown",
   "metadata": {},
   "source": [
    "```\n",
    "!bbduk.sh ref=/opt/bbmap/resources/phix174_ill.ref.fa.gz \\\n",
    "in=data/AfTF.trimmed.fq.gz \\\n",
    "out=data/AfTF.trimmed.contam.fq.gz \\\n",
    "interleaved=t\n",
    "```"
   ]
  },
  {
   "cell_type": "markdown",
   "metadata": {},
   "source": [
    "### Both libraries"
   ]
  },
  {
   "cell_type": "markdown",
   "metadata": {},
   "source": [
    "```\n",
    "!bbduk.sh ref=/opt/bbmap/resources/adapters.fa \\\n",
    "in=data/Af.fq.gz \\\n",
    "out=data/Af.trimmed.fq.gz \\\n",
    "interleaved=t qtrim=rl ktrim=r mink=12 k=23 tbo=t tpe=t\n",
    "```"
   ]
  },
  {
   "cell_type": "markdown",
   "metadata": {},
   "source": [
    "```\n",
    "!bbduk.sh ref=/opt/bbmap/resources/phix174_ill.ref.fa.gz \\\n",
    "in=data/Af.trimmed.fq.gz \\\n",
    "out=data/Af.trimmed.contam.fq.gz \\\n",
    "interleaved=t\n",
    "```"
   ]
  },
  {
   "cell_type": "markdown",
   "metadata": {},
   "source": [
    "# Merging reads"
   ]
  },
  {
   "cell_type": "code",
   "execution_count": 12,
   "metadata": {},
   "outputs": [
    {
     "name": "stdout",
     "output_type": "stream",
     "text": [
      "java -Djava.library.path=/opt/bbmap/jni/ -ea -Xmx1000m -Xmx1000m -cp /opt/bbmap/current/ jgi.BBMerge in=data/Af.trimmed.contam.fq.gz out=data/Af.trimmed.contam.merged.fq.gz outu=data/Af.trimmed.contam.unmerged.fq.gz\n",
      "Executing jgi.BBMerge [in=data/Af.trimmed.contam.fq.gz, out=data/Af.trimmed.contam.merged.fq.gz, outu=data/Af.trimmed.contam.unmerged.fq.gz]\n",
      "\n",
      "BBMerge version 37.10\n",
      "Writing mergable reads merged.\n",
      "Started output threads.\n",
      "Total time: 84.199 seconds.\n",
      "\n",
      "Pairs:               \t15914827\n",
      "Joined:              \t10175386   \t63.937%\n",
      "Ambiguous:           \t5064746   \t31.824%\n",
      "No Solution:         \t674695   \t4.239%\n",
      "Too Short:           \t0       \t0.000%\n",
      "\n",
      "Avg Insert:          \t256.6\n",
      "Standard Deviation:  \t120.2\n",
      "Mode:                \t195\n",
      "\n",
      "Insert range:        \t35 - 493\n",
      "90th percentile:     \t425\n",
      "75th percentile:     \t354\n",
      "50th percentile:     \t253\n",
      "25th percentile:     \t158\n",
      "10th percentile:     \t93\n"
     ]
    }
   ],
   "source": [
    "!bbmerge.sh in=data/Af.trimmed.contam.fq.gz \\\n",
    "out=data/Af.trimmed.contam.merged.fq.gz \\\n",
    "outu=data/Af.trimmed.contam.unmerged.fq.gz"
   ]
  },
  {
   "cell_type": "markdown",
   "metadata": {},
   "source": [
    "# Normalizaton and error correction"
   ]
  },
  {
   "cell_type": "markdown",
   "metadata": {},
   "source": [
    "```\n",
    "!bbnorm.sh target=100 mindepth=1 ecc=t threads=10 \\\n",
    "in=data/Af.trimmed.contam.merged.fq.gz \\\n",
    "out=data/Af.trimmed.contam.merged.normed.fq.gz\n",
    "```"
   ]
  },
  {
   "cell_type": "markdown",
   "metadata": {},
   "source": [
    "```\n",
    "!bbnorm.sh target=100 mindepth=1 ecc=t threads=10 \\\n",
    "in=data/Af.trimmed.contam.unmerged.fq.gz \\\n",
    "out=data/Af.trimmed.contam.unmerged.normed.fq.gz\n",
    "```"
   ]
  },
  {
   "cell_type": "markdown",
   "metadata": {},
   "source": [
    "# Spades assembly"
   ]
  },
  {
   "cell_type": "markdown",
   "metadata": {},
   "source": [
    "```\n",
    "!spades.py --thread 20 --only-assembler \\\n",
    "-s data/Af.trimmed.contam.merged.normed.fq.gz \\\n",
    "--12 data/Af.trimmed.contam.unmerged.normed.fq.gz \\\n",
    "-o data/spades_AF_2\n",
    "```"
   ]
  },
  {
   "cell_type": "markdown",
   "metadata": {
    "collapsed": true
   },
   "source": [
    "```\n",
    "!bioawk -c fastx '{if ( length($seq) >= 3000 ) print \">\"$name\"\\n\"$seq }' \\\n",
    "data/spades_AF_2/contigs.fasta > data/spades_AF_2/contigs.gt3000.fasta\n",
    "```"
   ]
  },
  {
   "cell_type": "markdown",
   "metadata": {},
   "source": [
    "## Annotation"
   ]
  },
  {
   "cell_type": "markdown",
   "metadata": {
    "collapsed": true
   },
   "source": [
    "```\n",
    "!tblastx -db data/ssDNAviruses \\\n",
    "-query data/spades_AF_2/contigs.gt3000.fasta \\\n",
    "-outfmt 6 -evalue 0.00000001 -max_target_seqs 5 -num_threads 25 \\\n",
    "-out data/spades_AF_2/DNAvirusesPO.m6\n",
    "```"
   ]
  },
  {
   "cell_type": "markdown",
   "metadata": {
    "collapsed": true
   },
   "source": [
    "### Grabbing densovirus contigs"
   ]
  },
  {
   "cell_type": "markdown",
   "metadata": {
    "collapsed": true
   },
   "source": [
    "```\n",
    "%%R\n",
    "\n",
    "options(dplyr.width=Inf)\n",
    "\n",
    "df = read.csv(\"data/spades_AF_2/DNAvirusesPO.m6\", sep = \"\\t\",\n",
    "         stringsAsFactors = FALSE, header = FALSE) %>%\n",
    "    group_by(V1) %>%\n",
    "    filter(V2 ==\"Sea_star_associated_densovirus-like_genome_fragment\") %>%\n",
    "    filter(rank(-V12, ties.method = \"random\") == 1)  %>%\n",
    "    filter(V4 >=10) %>%\n",
    "    select(V1, V2, V3, V4, V12, V11)\n",
    "\n",
    "ids = df$V1\n",
    "```"
   ]
  },
  {
   "cell_type": "code",
   "execution_count": 20,
   "metadata": {},
   "outputs": [
    {
     "name": "stdout",
     "output_type": "stream",
     "text": [
      "NODE_319_length_6089_cov_86.6124 6089\n"
     ]
    }
   ],
   "source": [
    "ids = %Rget ids\n",
    "keepers= []\n",
    "\n",
    "for rec in SeqIO.parse(\"data/spades_AF_2/contigs.gt3000.fasta\", \"fasta\"):\n",
    "    if rec.name in ids:\n",
    "        print(rec.name, len(rec.seq))\n",
    "        keepers.append(rec)\n",
    "\n",
    "with open(\"data/spades_AF_2/seastar_hit_contigs.fa\", \"w\") as out_handle:\n",
    "    SeqIO.write(keepers, out_handle, \"fasta\")"
   ]
  },
  {
   "cell_type": "markdown",
   "metadata": {
    "collapsed": true
   },
   "source": [
    "# Read Mapping"
   ]
  },
  {
   "cell_type": "markdown",
   "metadata": {
    "collapsed": true
   },
   "source": [
    "```\n",
    "!bbmap.sh threads=15 mappedonly=t minid=0.95 idfilter=0.98 \\\n",
    "in=data/Af.trimmed.contam.fq.gz \\\n",
    "ref=data/spades_AF_2/seastar_hit_contigs.fa \\\n",
    "covstats=data/spades_AF_2/covstats \\\n",
    "basecov=data/spades_AF_2/bascov.txt \\\n",
    "covhist=data/spades_AF_2/hicov.txt\n",
    "```"
   ]
  },
  {
   "cell_type": "markdown",
   "metadata": {},
   "source": [
    "### Mapping by library"
   ]
  },
  {
   "cell_type": "markdown",
   "metadata": {},
   "source": [
    "```\n",
    "!bbmap.sh threads=20 k=15 vslow=t idfilter=0.95 \\\n",
    "in=data/AfTF.trimmed.contam.fq.gz \\\n",
    "ref=data/spades_AF_2/seastar_hit_contigs.fa \\\n",
    "covstats=data/spades_AF_2/AfTFcovstats\n",
    "```"
   ]
  },
  {
   "cell_type": "markdown",
   "metadata": {},
   "source": [
    "```\n",
    "!bbmap.sh threads=20 k=15 vslow=t idfilter=0.95 \\\n",
    "in=data/AfPC.trimmed.contam.fq.gz \\\n",
    "ref=data/spades_AF_2/seastar_hit_contigs.fa \\\n",
    "covstats=data/spades_AF_2/AfPCcovstats\n",
    "```"
   ]
  }
 ],
 "metadata": {
  "kernelspec": {
   "display_name": "Python 3",
   "language": "python",
   "name": "python3"
  },
  "language_info": {
   "codemirror_mode": {
    "name": "ipython",
    "version": 3
   },
   "file_extension": ".py",
   "mimetype": "text/x-python",
   "name": "python",
   "nbconvert_exporter": "python",
   "pygments_lexer": "ipython3",
   "version": "3.6.1"
  }
 },
 "nbformat": 4,
 "nbformat_minor": 2
}
