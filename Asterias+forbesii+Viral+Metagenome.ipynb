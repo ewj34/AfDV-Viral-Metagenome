{
 "cells": [
  {
   "cell_type": "code",
   "execution_count": 4,
   "metadata": {
    "collapsed": true
   },
   "outputs": [],
   "source": [
    "from Bio import SeqIO\n",
    "from IPython.display import FileLink"
   ]
  },
  {
   "cell_type": "code",
   "execution_count": 5,
   "metadata": {
    "collapsed": true
   },
   "outputs": [],
   "source": [
    "%load_ext rpy2.ipython"
   ]
  },
  {
   "cell_type": "code",
   "execution_count": 18,
   "metadata": {
    "collapsed": true
   },
   "outputs": [],
   "source": [
    "%%R\n",
    "library(dplyr)"
   ]
  },
  {
   "cell_type": "markdown",
   "metadata": {},
   "source": [
    "### Interleaving all files"
   ]
  },
  {
   "cell_type": "markdown",
   "metadata": {},
   "source": [
    "```\n",
    "!pairs join -t data/6110_5146_27472_AKJ5B_AFPC1_GGACTCCT_CTCTCTAT_R1.fq.gz \\\n",
    "data/6110_5146_27472_AKJ5B_AFPC1_GGACTCCT_CTCTCTAT_R2.fq.gz | pigz -p 20 --fast -c > \\\n",
    "data/Afinterleaved.fq.gz\n",
    "```"
   ]
  },
  {
   "cell_type": "markdown",
   "metadata": {
    "collapsed": true
   },
   "source": [
    "```\n",
    "!pairs join -t data/6361_5146_27473_AKDNM_AFTF1_TAGGCATG_CTCTCTAT_R1.fq.gz \\\n",
    "data/6361_5146_27473_AKDNM_AFTF1_TAGGCATG_CTCTCTAT_R2.fq.gz | pigz -p 20 --fast -c >> \\\n",
    "data/Afinterleaved.fq.gz\n",
    "```"
   ]
  },
  {
   "cell_type": "code",
   "execution_count": 14,
   "metadata": {},
   "outputs": [
    {
     "name": "stdout",
     "output_type": "stream",
     "text": [
      "6.6G\tdata/Afinterleaved.fq.gz\r\n"
     ]
    }
   ],
   "source": [
    "!du -h data/Afinterleaved.fq.gz"
   ]
  },
  {
   "cell_type": "markdown",
   "metadata": {},
   "source": [
    "### Quality filtering, trimming and contamination removal"
   ]
  },
  {
   "cell_type": "code",
   "execution_count": 36,
   "metadata": {
    "collapsed": true
   },
   "outputs": [
    {
     "name": "stdout",
     "output_type": "stream",
     "text": [
      "java -Djava.library.path=/opt/bbmap/jni/ -ea -Xmx13240m -Xms13240m -cp /opt/bbmap/current/ jgi.BBDukF ref=/opt/bbmap/resources/adapters.fa in=data/Afinterleaved.fq.gz out=data/Afinterleaved.trimmed.fq.gz qtrim=rl ktrim=r mink=12 k=23 tbo=t tpe=1 overwrite=true\n",
      "Executing jgi.BBDukF [ref=/opt/bbmap/resources/adapters.fa, in=data/Afinterleaved.fq.gz, out=data/Afinterleaved.trimmed.fq.gz, qtrim=rl, ktrim=r, mink=12, k=23, tbo=t, tpe=1, overwrite=true]\n",
      "\n",
      "BBDuk version 37.10\n",
      "maskMiddle was disabled because useShortKmers=true\n",
      "Initial:\n",
      "Memory: max=13304m, free=12888m, used=416m\n",
      "\n",
      "Added 3262 kmers; time: \t0.068 seconds.\n",
      "Memory: max=13304m, free=12124m, used=1180m\n",
      "\n",
      "Input is being processed as unpaired\n",
      "Started output streams:\t0.085 seconds.\n",
      "Processing time:   \t\t137.591 seconds.\n",
      "\n",
      "Input:                  \t31858278 reads \t\t7996427778 bases.\n",
      "QTrimmed:               \t17637 reads (0.06%) \t2028394 bases (0.03%)\n",
      "KTrimmed:               \t9682520 reads (30.39%) \t1015359396 bases (12.70%)\n",
      "Trimmed by overlap:     \t0 reads (0.00%) \t0 bases (0.00%)\n",
      "Total Removed:          \t1043 reads (0.00%) \t1017387790 bases (12.72%)\n",
      "Result:                 \t31857235 reads (100.00%) \t6979039988 bases (87.28%)\n",
      "\n",
      "Time:   \t\t\t137.761 seconds.\n",
      "Reads Processed:      31858k \t231.26k reads/sec\n",
      "Bases Processed:       7996m \t58.05m bases/sec\n"
     ]
    }
   ],
   "source": [
    "!bbduk.sh ref=/opt/bbmap/resources/adapters.fa \\\n",
    "in=data/Afinterleaved.fq.gz \\\n",
    "out=data/Afinterleaved.trimmed.fq.gz \\\n",
    "qtrim=rl ktrim=r mink=12 k=23 tbo=t tpe=1 overwrite=true"
   ]
  },
  {
   "cell_type": "code",
   "execution_count": 38,
   "metadata": {
    "collapsed": true
   },
   "outputs": [
    {
     "name": "stdout",
     "output_type": "stream",
     "text": [
      "java -Djava.library.path=/opt/bbmap/jni/ -ea -Xmx13242m -Xms13242m -cp /opt/bbmap/current/ jgi.BBDukF ref=/opt/bbmap/resources/phix174_ill.ref.fa.gz in=data/Afinterleaved.trimmed.fq.gz out=data/Afinterleaved.trimmed.contam.fq.gz overwrite=true\n",
      "Executing jgi.BBDukF [ref=/opt/bbmap/resources/phix174_ill.ref.fa.gz, in=data/Afinterleaved.trimmed.fq.gz, out=data/Afinterleaved.trimmed.contam.fq.gz, overwrite=true]\n",
      "\n",
      "BBDuk version 37.10\n",
      "Initial:\n",
      "Memory: max=13306m, free=12890m, used=416m\n",
      "\n",
      "Added 5360 kmers; time: \t0.057 seconds.\n",
      "Memory: max=13306m, free=12265m, used=1041m\n",
      "\n",
      "Input is being processed as unpaired\n",
      "Started output streams:\t0.064 seconds.\n",
      "Processing time:   \t\t72.500 seconds.\n",
      "\n",
      "Input:                  \t31857235 reads \t\t6979039988 bases.\n",
      "Contaminants:           \t22428 reads (0.07%) \t5600034 bases (0.08%)\n",
      "Total Removed:          \t22428 reads (0.07%) \t5600034 bases (0.08%)\n",
      "Result:                 \t31834807 reads (99.93%) \t6973439954 bases (99.92%)\n",
      "\n",
      "Time:   \t\t\t72.635 seconds.\n",
      "Reads Processed:      31857k \t438.59k reads/sec\n",
      "Bases Processed:       6979m \t96.08m bases/sec\n"
     ]
    }
   ],
   "source": [
    "!bbduk.sh ref=/opt/bbmap/resources/phix174_ill.ref.fa.gz \\\n",
    "in=data/Afinterleaved.trimmed.fq.gz \\\n",
    "out=data/Afinterleaved.trimmed.contam.fq.gz overwrite=true"
   ]
  },
  {
   "cell_type": "markdown",
   "metadata": {},
   "source": [
    "### Merging reads"
   ]
  },
  {
   "cell_type": "markdown",
   "metadata": {},
   "source": [
    "```\n",
    "!bbmerge.sh in=data/Afinterleaved.trimmed.contam.fq.gz \\\n",
    "out=data/Afinterleaved.trimmed.contam.merged.fq.gz \\\n",
    "outu=data/Afinterleaved.trimmed.contam.unmerged.fq.gz\n",
    "```"
   ]
  },
  {
   "cell_type": "markdown",
   "metadata": {},
   "source": [
    "### Normalizaton and error correction"
   ]
  },
  {
   "cell_type": "code",
   "execution_count": 40,
   "metadata": {
    "collapsed": true
   },
   "outputs": [
    {
     "name": "stdout",
     "output_type": "stream",
     "text": [
      "java -ea -Xmx26434m -Xms26434m -cp /opt/bbmap/current/ jgi.KmerNormalize bits=32 target=50 mindepth=1 ecc=t threads=20 in=data/Afinterleaved.trimmed.contam.merged.fq.gz out=data/Afinterleaved.trimmed.contam.merged.normed.fq.gz\n",
      "Executing jgi.KmerNormalize [bits=32, target=50, mindepth=1, ecc=t, threads=20, in=data/Afinterleaved.trimmed.contam.merged.fq.gz, out=data/Afinterleaved.trimmed.contam.merged.normed.fq.gz]\n",
      "\n",
      "BBNorm version 37.10\n",
      "Set threads to 20\n",
      "\n",
      "   ***********   Pass 1   **********   \n",
      "\n",
      "\n",
      "Settings:\n",
      "threads:          \t20\n",
      "k:                \t31\n",
      "deterministic:    \ttrue\n",
      "toss error reads: \tfalse\n",
      "passes:           \t1\n",
      "bits per cell:    \t16\n",
      "cells:            \t9660.14M\n",
      "hashes:           \t3\n",
      "base min quality: \t5\n",
      "kmer min prob:    \t0.5\n",
      "\n",
      "target depth:     \t200\n",
      "min depth:        \t1\n",
      "max depth:        \t250\n",
      "min good kmers:   \t15\n",
      "depth percentile: \t64.8\n",
      "ignore dupe kmers:\ttrue\n",
      "fix spikes:       \tfalse\n",
      "\n",
      "Made hash table:  \thashes = 3   \t mem = 17.99 GB   \tcells = 9656.47M   \tused = 0.872%\n",
      "\n",
      "Estimated unique kmers:     \t28179582\n",
      "\n",
      "Table creation time:\t\t49.158 seconds.\n",
      "Started output threads.\n",
      "Table read time: \t\t27.380 seconds.   \t47269.01 kb/sec\n",
      "Total reads in:  \t\t5045664  \t19.238% Kept\n",
      "Total bases in:  \t\t1294238915  \t18.185% Kept\n",
      "Error reads in:  \t\t141992   \t2.814%\n",
      "Error type 1:    \t\t37711    \t0.747%\n",
      "Error type 2:    \t\t52917    \t1.049%\n",
      "Error type 3:    \t\t96657    \t1.916%\n",
      "\n",
      "During Error Correction:\n",
      "Errors Suspected:\t\t114831\n",
      "Errors Corrected:\t\t20075\n",
      "Errors Marked:   \t\t0\n",
      "\n",
      "Total kmers counted:          \t1139700862\n",
      "Total unique kmer count:      \t29761411\n",
      "Includes forward kmers only.\n",
      "The unique kmer estimate can be more accurate than the unique count, if the tables are very full.\n",
      "The most accurate value is the greater of the two.\n",
      "\n",
      "Percent unique:               \t 2.61%\n",
      "Depth average:                \t38.29\t(unique kmers)\n",
      "Depth median:                 \t1\t(unique kmers)\n",
      "Depth standard deviation:     \t912.54\t(unique kmers)\n",
      "\n",
      "Depth average:                \t10430.08\t(all kmers)\n",
      "Depth median:                 \t6833\t(all kmers)\n",
      "Depth standard deviation:     \t25808.94\t(all kmers)\n",
      "\n",
      "Approx. read depth median:    \t7738.01\n",
      "\n",
      "   ***********   Pass 2   **********   \n",
      "\n",
      "\n",
      "Settings:\n",
      "threads:          \t20\n",
      "k:                \t31\n",
      "deterministic:    \ttrue\n",
      "toss error reads: \tfalse\n",
      "passes:           \t1\n",
      "bits per cell:    \t16\n",
      "cells:            \t9660.14M\n",
      "hashes:           \t3\n",
      "base min quality: \t5\n",
      "kmer min prob:    \t0.5\n",
      "\n",
      "target depth:     \t50\n",
      "min depth:        \t1\n",
      "max depth:        \t50\n",
      "min good kmers:   \t15\n",
      "depth percentile: \t54.0\n",
      "ignore dupe kmers:\ttrue\n",
      "fix spikes:       \tfalse\n",
      "\n",
      "Made hash table:  \thashes = 3   \t mem = 17.99 GB   \tcells = 9656.47M   \tused = 0.479%\n",
      "\n",
      "Estimated unique kmers:     \t15455882\n",
      "\n",
      "Table creation time:\t\t12.270 seconds.\n",
      "Started output threads.\n",
      "Table read time: \t\t9.858 seconds.   \t23874.95 kb/sec\n",
      "Total reads in:  \t\t970668   \t57.605% Kept\n",
      "Total bases in:  \t\t235362933   \t57.502% Kept\n",
      "Error reads in:  \t\t49764    \t5.127%\n",
      "Error type 1:    \t\t37897    \t3.904%\n",
      "Error type 2:    \t\t11735    \t1.209%\n",
      "Error type 3:    \t\t3699     \t0.381%\n",
      "\n",
      "During Error Correction:\n",
      "Errors Suspected:\t\t59456\n",
      "Errors Corrected:\t\t457\n",
      "Errors Marked:   \t\t0\n",
      "\n",
      "Total kmers counted:          \t206148044\n",
      "Total unique kmer count:      \t15695305\n",
      "Includes forward kmers only.\n",
      "The unique kmer estimate can be more accurate than the unique count, if the tables are very full.\n",
      "The most accurate value is the greater of the two.\n",
      "\n",
      "Percent unique:               \t 7.61%\n",
      "Depth average:                \t13.13\t(unique kmers)\n",
      "Depth median:                 \t2\t(unique kmers)\n",
      "Depth standard deviation:     \t34.93\t(unique kmers)\n",
      "\n",
      "Depth average:                \t106.02\t(all kmers)\n",
      "Depth median:                 \t117\t(all kmers)\n",
      "Depth standard deviation:     \t77.32\t(all kmers)\n",
      "\n",
      "Approx. read depth median:    \t133.52\n",
      "\n",
      "Removing temp files.\n",
      "\n",
      "Total time:      \t\t98.880 seconds.   \t15469.25 kb/sec\n"
     ]
    }
   ],
   "source": [
    "!bbnorm.sh target=50 mindepth=1 ecc=t threads=20 \\\n",
    "in=data/Afinterleaved.trimmed.contam.merged.fq.gz \\\n",
    "out=data/Afinterleaved.trimmed.contam.merged.normed.fq.gz"
   ]
  },
  {
   "cell_type": "code",
   "execution_count": 41,
   "metadata": {
    "collapsed": true
   },
   "outputs": [
    {
     "name": "stdout",
     "output_type": "stream",
     "text": [
      "java -ea -Xmx26526m -Xms26526m -cp /opt/bbmap/current/ jgi.KmerNormalize bits=32 target=50 mindepth=1 ecc=t threads=20 in=data/Afinterleaved.trimmed.contam.unmerged.fq.gz out=data/Afinterleaved.trimmed.contam.unmerged.normed.fq.gz\n",
      "Executing jgi.KmerNormalize [bits=32, target=50, mindepth=1, ecc=t, threads=20, in=data/Afinterleaved.trimmed.contam.unmerged.fq.gz, out=data/Afinterleaved.trimmed.contam.unmerged.normed.fq.gz]\n",
      "\n",
      "BBNorm version 37.10\n",
      "Set threads to 20\n",
      "\n",
      "   ***********   Pass 1   **********   \n",
      "\n",
      "\n",
      "Settings:\n",
      "threads:          \t20\n",
      "k:                \t31\n",
      "deterministic:    \ttrue\n",
      "toss error reads: \tfalse\n",
      "passes:           \t1\n",
      "bits per cell:    \t16\n",
      "cells:            \t9693.82M\n",
      "hashes:           \t3\n",
      "base min quality: \t5\n",
      "kmer min prob:    \t0.5\n",
      "\n",
      "target depth:     \t200\n",
      "min depth:        \t1\n",
      "max depth:        \t250\n",
      "min good kmers:   \t15\n",
      "depth percentile: \t64.8\n",
      "ignore dupe kmers:\ttrue\n",
      "fix spikes:       \tfalse\n",
      "\n",
      "Made hash table:  \thashes = 3   \t mem = 18.04 GB   \tcells = 9685.47M   \tused = 11.974%\n",
      "\n",
      "Estimated unique kmers:     \t411738663\n",
      "\n",
      "Table creation time:\t\t112.405 seconds.\n",
      "Started output threads.\n",
      "Table read time: \t\t259.474 seconds.   \t18946.36 kb/sec\n",
      "Total reads in:  \t\t21743478 \t16.115% Kept\n",
      "Total bases in:  \t\t4916086117 \t16.115% Kept\n",
      "Error reads in:  \t\t6344857  \t29.181%\n",
      "Error type 1:    \t\t1894069  \t8.711%\n",
      "Error type 2:    \t\t2739125  \t12.597%\n",
      "Error type 3:    \t\t5886584  \t27.073%\n",
      "\n",
      "During Error Correction:\n",
      "Errors Suspected:\t\t2161172\n",
      "Errors Corrected:\t\t151108\n",
      "Errors Marked:   \t\t0\n",
      "\n",
      "Total kmers counted:          \t4244926907\n",
      "Total unique kmer count:      \t811813709\n",
      "Includes forward kmers only.\n",
      "The unique kmer estimate can be more accurate than the unique count, if the tables are very full.\n",
      "The most accurate value is the greater of the two.\n",
      "\n",
      "Percent unique:               \t19.12%\n",
      "Depth average:                \t5.23\t(unique kmers)\n",
      "Depth median:                 \t1\t(unique kmers)\n",
      "Depth standard deviation:     \t355.25\t(unique kmers)\n",
      "\n",
      "Depth average:                \t5967.66\t(all kmers)\n",
      "Depth median:                 \t4578\t(all kmers)\n",
      "Depth standard deviation:     \t28633.88\t(all kmers)\n",
      "\n",
      "Approx. read depth median:    \t5278.38\n",
      "\n",
      "   ***********   Pass 2   **********   \n",
      "\n",
      "\n",
      "Settings:\n",
      "threads:          \t20\n",
      "k:                \t31\n",
      "deterministic:    \ttrue\n",
      "toss error reads: \tfalse\n",
      "passes:           \t1\n",
      "bits per cell:    \t16\n",
      "cells:            \t9693.82M\n",
      "hashes:           \t3\n",
      "base min quality: \t5\n",
      "kmer min prob:    \t0.5\n",
      "\n",
      "target depth:     \t50\n",
      "min depth:        \t1\n",
      "max depth:        \t50\n",
      "min good kmers:   \t15\n",
      "depth percentile: \t54.0\n",
      "ignore dupe kmers:\ttrue\n",
      "fix spikes:       \tfalse\n",
      "\n",
      "Made hash table:  \thashes = 3   \t mem = 18.04 GB   \tcells = 9685.47M   \tused = 6.902%\n",
      "\n",
      "Estimated unique kmers:     \t230908139\n",
      "\n",
      "Table creation time:\t\t26.669 seconds.\n",
      "Started output threads.\n",
      "Table read time: \t\t23.762 seconds.   \t33339.82 kb/sec\n",
      "Total reads in:  \t\t3504000  \t68.953% Kept\n",
      "Total bases in:  \t\t792231827  \t69.406% Kept\n",
      "Error reads in:  \t\t1773797  \t50.622%\n",
      "Error type 1:    \t\t1321823  \t37.723%\n",
      "Error type 2:    \t\t325425   \t9.287%\n",
      "Error type 3:    \t\t1299404   \t37.083%\n",
      "\n",
      "During Error Correction:\n",
      "Errors Suspected:\t\t1023944\n",
      "Errors Corrected:\t\t28250\n",
      "Errors Marked:   \t\t0\n",
      "\n",
      "Total kmers counted:          \t687073137\n",
      "Total unique kmer count:      \t364725048\n",
      "Includes forward kmers only.\n",
      "The unique kmer estimate can be more accurate than the unique count, if the tables are very full.\n",
      "The most accurate value is the greater of the two.\n",
      "\n",
      "Percent unique:               \t53.08%\n",
      "Depth average:                \t1.88\t(unique kmers)\n",
      "Depth median:                 \t1\t(unique kmers)\n",
      "Depth standard deviation:     \t9.56\t(unique kmers)\n",
      "\n",
      "Depth average:                \t50.45\t(all kmers)\n",
      "Depth median:                 \t1\t(all kmers)\n",
      "Depth standard deviation:     \t94.11\t(all kmers)\n",
      "\n",
      "Approx. read depth median:    \t1.15\n",
      "\n",
      "Removing temp files.\n",
      "\n",
      "Total time:      \t\t422.687 seconds.   \t13504.82 kb/sec\n"
     ]
    }
   ],
   "source": [
    "!bbnorm.sh target=50 mindepth=1 ecc=t threads=20 \\\n",
    "in=data/Afinterleaved.trimmed.contam.unmerged.fq.gz \\\n",
    "out=data/Afinterleaved.trimmed.contam.unmerged.normed.fq.gz"
   ]
  },
  {
   "cell_type": "markdown",
   "metadata": {},
   "source": [
    "### Megahit assembly & annotation"
   ]
  },
  {
   "cell_type": "code",
   "execution_count": 43,
   "metadata": {
    "collapsed": true
   },
   "outputs": [
    {
     "name": "stdout",
     "output_type": "stream",
     "text": [
      "125.812Gb memory in total.\n",
      "Using: 113.23Gb.\n",
      "MEGAHIT v1.1.1-2-g02102e1\n",
      "--- [Thu Aug 17 10:42:04 2017] Start assembly. Number of CPU threads 20 ---\n",
      "--- [Thu Aug 17 10:42:04 2017] Available memory: 135089143808, used: 121580229427\n",
      "--- [Thu Aug 17 10:42:04 2017] Converting reads to binaries ---\n",
      "b'    [read_lib_functions-inl.h  : 209]     Lib 0 (data/Afinterleaved.trimmed.contam.merged.normed.fq.gz): interleaved, 559150 reads, 493 max length'\n",
      "b'    [read_lib_functions-inl.h  : 209]     Lib 1 (data/Afinterleaved.trimmed.contam.unmerged.normed.fq.gz): interleaved, 2416122 reads, 251 max length'\n",
      "b'    [utils.h                   : 126]     Real: 11.8352\\tuser: 4.1000\\tsys: 0.3880\\tmaxrss: 162136'\n",
      "--- [Thu Aug 17 10:42:16 2017] k list: 21,31,41,51,61,71,81,91,101,111,121,131,141,151,161,171,181,191,201,211,221,231,241,251,255 ---\n",
      "--- [Thu Aug 17 10:42:16 2017] Extracting solid (k+1)-mers for k = 21 ---\n",
      "--- [Thu Aug 17 10:42:34 2017] Building graph for k = 21 ---\n",
      "--- [Thu Aug 17 10:42:58 2017] Assembling contigs from SdBG for k = 21 ---\n",
      "--- [Thu Aug 17 10:43:44 2017] Local assembling k = 21 ---\n",
      "--- [Thu Aug 17 10:44:20 2017] Extracting iterative edges from k = 21 to 31 ---\n",
      "--- [Thu Aug 17 10:44:37 2017] Building graph for k = 31 ---\n",
      "--- [Thu Aug 17 10:44:55 2017] Assembling contigs from SdBG for k = 31 ---\n",
      "--- [Thu Aug 17 10:45:21 2017] Local assembling k = 31 ---\n",
      "--- [Thu Aug 17 10:46:20 2017] Extracting iterative edges from k = 31 to 41 ---\n",
      "--- [Thu Aug 17 10:46:28 2017] Building graph for k = 41 ---\n",
      "--- [Thu Aug 17 10:46:40 2017] Assembling contigs from SdBG for k = 41 ---\n",
      "--- [Thu Aug 17 10:47:13 2017] Local assembling k = 41 ---\n",
      "--- [Thu Aug 17 10:48:01 2017] Extracting iterative edges from k = 41 to 51 ---\n",
      "--- [Thu Aug 17 10:48:10 2017] Building graph for k = 51 ---\n",
      "--- [Thu Aug 17 10:48:22 2017] Assembling contigs from SdBG for k = 51 ---\n",
      "--- [Thu Aug 17 10:49:05 2017] Local assembling k = 51 ---\n",
      "--- [Thu Aug 17 10:49:47 2017] Extracting iterative edges from k = 51 to 61 ---\n",
      "--- [Thu Aug 17 10:49:54 2017] Building graph for k = 61 ---\n",
      "--- [Thu Aug 17 10:50:05 2017] Assembling contigs from SdBG for k = 61 ---\n",
      "--- [Thu Aug 17 10:50:55 2017] Local assembling k = 61 ---\n",
      "--- [Thu Aug 17 10:51:32 2017] Extracting iterative edges from k = 61 to 71 ---\n",
      "--- [Thu Aug 17 10:51:39 2017] Building graph for k = 71 ---\n",
      "--- [Thu Aug 17 10:51:49 2017] Assembling contigs from SdBG for k = 71 ---\n",
      "--- [Thu Aug 17 10:52:47 2017] Local assembling k = 71 ---\n",
      "--- [Thu Aug 17 10:53:22 2017] Extracting iterative edges from k = 71 to 81 ---\n",
      "--- [Thu Aug 17 10:53:29 2017] Building graph for k = 81 ---\n",
      "--- [Thu Aug 17 10:53:38 2017] Assembling contigs from SdBG for k = 81 ---\n",
      "--- [Thu Aug 17 10:54:36 2017] Local assembling k = 81 ---\n",
      "--- [Thu Aug 17 10:55:15 2017] Extracting iterative edges from k = 81 to 91 ---\n",
      "--- [Thu Aug 17 10:55:22 2017] Building graph for k = 91 ---\n",
      "--- [Thu Aug 17 10:55:30 2017] Assembling contigs from SdBG for k = 91 ---\n",
      "--- [Thu Aug 17 10:56:10 2017] Local assembling k = 91 ---\n",
      "--- [Thu Aug 17 10:57:21 2017] Extracting iterative edges from k = 91 to 101 ---\n",
      "--- [Thu Aug 17 10:57:27 2017] Building graph for k = 101 ---\n",
      "--- [Thu Aug 17 10:57:31 2017] Assembling contigs from SdBG for k = 101 ---\n",
      "--- [Thu Aug 17 10:57:40 2017] Local assembling k = 101 ---\n",
      "--- [Thu Aug 17 10:58:49 2017] Extracting iterative edges from k = 101 to 111 ---\n",
      "--- [Thu Aug 17 10:58:55 2017] Building graph for k = 111 ---\n",
      "--- [Thu Aug 17 10:58:58 2017] Assembling contigs from SdBG for k = 111 ---\n",
      "--- [Thu Aug 17 10:59:06 2017] Local assembling k = 111 ---\n",
      "--- [Thu Aug 17 11:00:14 2017] Extracting iterative edges from k = 111 to 121 ---\n",
      "--- [Thu Aug 17 11:00:20 2017] Building graph for k = 121 ---\n",
      "--- [Thu Aug 17 11:00:23 2017] Assembling contigs from SdBG for k = 121 ---\n",
      "--- [Thu Aug 17 11:00:32 2017] Local assembling k = 121 ---\n",
      "--- [Thu Aug 17 11:01:40 2017] Extracting iterative edges from k = 121 to 131 ---\n",
      "--- [Thu Aug 17 11:01:45 2017] Building graph for k = 131 ---\n",
      "--- [Thu Aug 17 11:01:48 2017] Assembling contigs from SdBG for k = 131 ---\n",
      "--- [Thu Aug 17 11:01:56 2017] Local assembling k = 131 ---\n",
      "--- [Thu Aug 17 11:03:03 2017] Extracting iterative edges from k = 131 to 141 ---\n",
      "--- [Thu Aug 17 11:03:09 2017] Building graph for k = 141 ---\n",
      "--- [Thu Aug 17 11:03:12 2017] Assembling contigs from SdBG for k = 141 ---\n",
      "--- [Thu Aug 17 11:03:20 2017] Local assembling k = 141 ---\n",
      "--- [Thu Aug 17 11:04:26 2017] Extracting iterative edges from k = 141 to 151 ---\n",
      "--- [Thu Aug 17 11:04:32 2017] Building graph for k = 151 ---\n",
      "--- [Thu Aug 17 11:04:35 2017] Assembling contigs from SdBG for k = 151 ---\n",
      "--- [Thu Aug 17 11:04:42 2017] Local assembling k = 151 ---\n",
      "--- [Thu Aug 17 11:05:49 2017] Extracting iterative edges from k = 151 to 161 ---\n",
      "--- [Thu Aug 17 11:05:54 2017] Building graph for k = 161 ---\n",
      "--- [Thu Aug 17 11:05:57 2017] Assembling contigs from SdBG for k = 161 ---\n",
      "--- [Thu Aug 17 11:06:05 2017] Local assembling k = 161 ---\n",
      "--- [Thu Aug 17 11:07:08 2017] Extracting iterative edges from k = 161 to 171 ---\n",
      "--- [Thu Aug 17 11:07:13 2017] Building graph for k = 171 ---\n",
      "--- [Thu Aug 17 11:07:16 2017] Assembling contigs from SdBG for k = 171 ---\n",
      "--- [Thu Aug 17 11:07:24 2017] Local assembling k = 171 ---\n",
      "--- [Thu Aug 17 11:08:26 2017] Extracting iterative edges from k = 171 to 181 ---\n",
      "--- [Thu Aug 17 11:08:30 2017] Building graph for k = 181 ---\n",
      "--- [Thu Aug 17 11:08:33 2017] Assembling contigs from SdBG for k = 181 ---\n",
      "--- [Thu Aug 17 11:08:39 2017] Local assembling k = 181 ---\n",
      "--- [Thu Aug 17 11:09:40 2017] Extracting iterative edges from k = 181 to 191 ---\n",
      "--- [Thu Aug 17 11:09:44 2017] Building graph for k = 191 ---\n",
      "--- [Thu Aug 17 11:09:47 2017] Assembling contigs from SdBG for k = 191 ---\n",
      "--- [Thu Aug 17 11:09:54 2017] Local assembling k = 191 ---\n",
      "--- [Thu Aug 17 11:10:54 2017] Extracting iterative edges from k = 191 to 201 ---\n",
      "--- [Thu Aug 17 11:10:58 2017] Building graph for k = 201 ---\n",
      "--- [Thu Aug 17 11:11:01 2017] Assembling contigs from SdBG for k = 201 ---\n",
      "--- [Thu Aug 17 11:11:07 2017] Local assembling k = 201 ---\n",
      "--- [Thu Aug 17 11:12:07 2017] Extracting iterative edges from k = 201 to 211 ---\n",
      "--- [Thu Aug 17 11:12:11 2017] Building graph for k = 211 ---\n",
      "--- [Thu Aug 17 11:12:13 2017] Assembling contigs from SdBG for k = 211 ---\n",
      "--- [Thu Aug 17 11:12:20 2017] Local assembling k = 211 ---\n",
      "--- [Thu Aug 17 11:13:17 2017] Extracting iterative edges from k = 211 to 221 ---\n",
      "--- [Thu Aug 17 11:13:21 2017] Building graph for k = 221 ---\n",
      "--- [Thu Aug 17 11:13:23 2017] Assembling contigs from SdBG for k = 221 ---\n",
      "--- [Thu Aug 17 11:13:30 2017] Local assembling k = 221 ---\n",
      "--- [Thu Aug 17 11:14:27 2017] Extracting iterative edges from k = 221 to 231 ---\n",
      "--- [Thu Aug 17 11:14:31 2017] Building graph for k = 231 ---\n",
      "--- [Thu Aug 17 11:14:33 2017] Assembling contigs from SdBG for k = 231 ---\n",
      "--- [Thu Aug 17 11:14:39 2017] Local assembling k = 231 ---\n",
      "--- [Thu Aug 17 11:15:34 2017] Extracting iterative edges from k = 231 to 241 ---\n",
      "--- [Thu Aug 17 11:15:37 2017] Building graph for k = 241 ---\n",
      "--- [Thu Aug 17 11:15:39 2017] Assembling contigs from SdBG for k = 241 ---\n",
      "--- [Thu Aug 17 11:15:45 2017] Local assembling k = 241 ---\n",
      "--- [Thu Aug 17 11:16:38 2017] Extracting iterative edges from k = 241 to 251 ---\n",
      "--- [Thu Aug 17 11:16:41 2017] Building graph for k = 251 ---\n",
      "--- [Thu Aug 17 11:16:43 2017] Assembling contigs from SdBG for k = 251 ---\n",
      "--- [Thu Aug 17 11:16:49 2017] Local assembling k = 251 ---\n",
      "--- [Thu Aug 17 11:17:42 2017] Extracting iterative edges from k = 251 to 255 ---\n",
      "--- [Thu Aug 17 11:17:45 2017] Building graph for k = 255 ---\n",
      "--- [Thu Aug 17 11:17:47 2017] Assembling contigs from SdBG for k = 255 ---\n",
      "--- [Thu Aug 17 11:17:52 2017] Merging to output final contigs ---\n",
      "--- [STAT] 51354 contigs, total 31307555 bp, min 256 bp, max 17548 bp, avg 610 bp, N50 541 bp\n",
      "--- [Thu Aug 17 11:17:52 2017] ALL DONE. Time elapsed: 2148.111055 seconds ---\n"
     ]
    }
   ],
   "source": [
    "!megahit -t 20 --12 data/Afinterleaved.trimmed.contam.merged.normed.fq.gz \\\n",
    "--12 data/Afinterleaved.trimmed.contam.unmerged.normed.fq.gz  \\\n",
    "--k-min 21 --k-max 255 --k-step 10 -o data/megahit_outAf"
   ]
  },
  {
   "cell_type": "code",
   "execution_count": 3,
   "metadata": {
    "collapsed": true
   },
   "outputs": [
    {
     "name": "stdout",
     "output_type": "stream",
     "text": [
      "A\tC\tG\tT\tN\tIUPAC\tOther\tGC\tGC_stdev\r\n",
      "0.2978\t0.2072\t0.2056\t0.2893\t0.0000\t0.0000\t0.0000\t0.4128\t0.0780\r\n",
      "\r\n",
      "Main genome scaffold total:         \t51354\r\n",
      "Main genome contig total:           \t51354\r\n",
      "Main genome scaffold sequence total:\t31.308 MB\r\n",
      "Main genome contig sequence total:  \t31.308 MB  \t0.000% gap\r\n",
      "Main genome scaffold N/L50:         \t12233/541\r\n",
      "Main genome contig N/L50:           \t12233/541\r\n",
      "Main genome scaffold N/L90:         \t41913/353\r\n",
      "Main genome contig N/L90:           \t41913/353\r\n",
      "Max scaffold length:                \t17.548 KB\r\n",
      "Max contig length:                  \t17.548 KB\r\n",
      "Number of scaffolds > 50 KB:        \t0\r\n",
      "% main genome in scaffolds > 50 KB: \t0.00%\r\n",
      "\r\n",
      "\r\n",
      "Minimum \tNumber        \tNumber        \tTotal         \tTotal         \tScaffold\r\n",
      "Scaffold\tof            \tof            \tScaffold      \tContig        \tContig  \r\n",
      "Length  \tScaffolds     \tContigs       \tLength        \tLength        \tCoverage\r\n",
      "--------\t--------------\t--------------\t--------------\t--------------\t--------\r\n",
      "    All \t        51,354\t        51,354\t    31,307,555\t    31,307,555\t 100.00%\r\n",
      "    250 \t        51,354\t        51,354\t    31,307,555\t    31,307,555\t 100.00%\r\n",
      "    500 \t        14,744\t        14,744\t    16,974,215\t    16,974,215\t 100.00%\r\n",
      "   1 KB \t         4,217\t         4,217\t    10,241,269\t    10,241,269\t 100.00%\r\n",
      " 2.5 KB \t         1,240\t         1,240\t     5,705,824\t     5,705,824\t 100.00%\r\n",
      "   5 KB \t           382\t           382\t     2,741,329\t     2,741,329\t 100.00%\r\n",
      "  10 KB \t            49\t            49\t       579,361\t       579,361\t 100.00%\r\n",
      "\r\n"
     ]
    }
   ],
   "source": [
    "!stats.sh data/megahit_outAf/final.contigs.fa"
   ]
  },
  {
   "cell_type": "code",
   "execution_count": 47,
   "metadata": {
    "collapsed": true
   },
   "outputs": [],
   "source": [
    "!bioawk -c fastx '{if ( length($seq) >= 500 ) print \">\"$name\"\\n\"$seq }' \\\n",
    "data/megahit_outAf/final.contigs.fa > data/megahit_outAf/final.contigs.gt500.fa"
   ]
  },
  {
   "cell_type": "code",
   "execution_count": 49,
   "metadata": {
    "collapsed": true
   },
   "outputs": [],
   "source": [
    "!tblastx -db data/ssDNAviruses \\\n",
    "-query data/megahit_outAf/final.contigs.gt500.fa \\\n",
    "-outfmt 6 -evalue 0.00000001 -max_target_seqs 5 -num_threads 25 \\\n",
    "-out data/megahit_outAf/DNAvirusesPO.m6"
   ]
  },
  {
   "cell_type": "code",
   "execution_count": 28,
   "metadata": {
    "collapsed": true
   },
   "outputs": [],
   "source": [
    "!tblastx -db /home/elliot/assembly/RNAmetaviromes/data/RNAvirusdatabase  \\\n",
    "-query data/megahit_outAf/final.contigs.gt500.fa \\\n",
    "-outfmt 6 -evalue 0.00000001 -max_target_seqs 5 -num_threads 10 \\\n",
    "-out data/megahit_outAf/RNAviruses.m6"
   ]
  },
  {
   "cell_type": "markdown",
   "metadata": {},
   "source": [
    "### Isolating contigs and mapping reads to them"
   ]
  },
  {
   "cell_type": "code",
   "execution_count": 85,
   "metadata": {},
   "outputs": [
    {
     "data": {
      "text/plain": [
       "Source: local data frame [5 x 6]\n",
       "Groups: V1 [5]\n",
       "\n",
       "          V1                                                  V2    V3    V4\n",
       "       <chr>                                               <chr> <dbl> <int>\n",
       "1 k255_18196 Sea_star_associated_densovirus-like_genome_fragment 90.24   379\n",
       "2 k255_20446 Sea_star_associated_densovirus-like_genome_fragment 54.17    48\n",
       "3 k255_28005 Sea_star_associated_densovirus-like_genome_fragment 79.69    64\n",
       "4 k255_34599 Sea_star_associated_densovirus-like_genome_fragment 73.96    96\n",
       "5 k255_43172 Sea_star_associated_densovirus-like_genome_fragment 84.21   114\n",
       "    V12    V11\n",
       "  <dbl>  <dbl>\n",
       "1 870.0  0e+00\n",
       "2  58.3  1e-12\n",
       "3 124.0  6e-30\n",
       "4 177.0  9e-46\n",
       "5 204.0 5e-104\n"
      ]
     },
     "metadata": {},
     "output_type": "display_data"
    }
   ],
   "source": [
    "%%R\n",
    "\n",
    "options(dplyr.width=Inf)\n",
    "\n",
    "df = read.csv(\"data/megahit_outAf/DNAvirusesPO.m6\", sep = \"\\t\",\n",
    "         stringsAsFactors = FALSE, header = FALSE) %>%\n",
    "    group_by(V1) %>%\n",
    "    filter(V2 ==\"Sea_star_associated_densovirus-like_genome_fragment\") %>%\n",
    "    filter(rank(-V12, ties.method = \"random\") == 1)  %>%\n",
    "    filter(V4 >=10) %>%\n",
    "    select(V1, V2, V3, V4, V12, V11)\n",
    "\n",
    "ids = df$V1\n",
    "df"
   ]
  },
  {
   "cell_type": "code",
   "execution_count": 54,
   "metadata": {
    "collapsed": true
   },
   "outputs": [],
   "source": [
    "ids = %Rget ids"
   ]
  },
  {
   "cell_type": "code",
   "execution_count": 57,
   "metadata": {},
   "outputs": [
    {
     "name": "stdout",
     "output_type": "stream",
     "text": [
      "k255_18196 5220\n",
      "k255_20446 629\n",
      "k255_28005 681\n",
      "k255_34599 556\n",
      "k255_43172 1185\n"
     ]
    }
   ],
   "source": [
    "keepers= []\n",
    "\n",
    "for rec in SeqIO.parse(\"data/megahit_outAf/final.contigs.gt500.fa\", \"fasta\"):\n",
    "    if rec.name in ids:\n",
    "        print(rec.name, len(rec.seq))\n",
    "        keepers.append(rec)\n",
    "\n",
    "with open(\"data/megahit_outAf/seastar_hit_contigs.fa\", \"w\") as out_handle:\n",
    "    SeqIO.write(keepers, out_handle, \"fasta\")"
   ]
  },
  {
   "cell_type": "code",
   "execution_count": 62,
   "metadata": {
    "collapsed": true
   },
   "outputs": [
    {
     "name": "stdout",
     "output_type": "stream",
     "text": [
      "java -Djava.library.path=/opt/bbmap/jni/ -ea -Xmx26490m -cp /opt/bbmap/current/ align2.BBMap build=1 overwrite=true fastareadlen=500 mappedonly=t minid=0.95 idfilter=0.98 in=data/Afinterleaved.trimmed.contam.fq.gz ref=data/megahit_outAf/seastar_hit_contigs.fa out=data/megahit_outAf/reads2megahit.fq threads=15\n",
      "Executing align2.BBMap [build=1, overwrite=true, fastareadlen=500, mappedonly=t, minid=0.95, idfilter=0.98, in=data/Afinterleaved.trimmed.contam.fq.gz, ref=data/megahit_outAf/seastar_hit_contigs.fa, out=data/megahit_outAf/reads2megahit.fq, threads=15]\n",
      "\n",
      "BBMap version 37.10\n",
      "Set OUTPUT_MAPPED_ONLY to true\n",
      "Set threads to 15\n",
      "Retaining first best site only for ambiguous mappings.\n",
      "Set MINIMUM_ALIGNMENT_SCORE_RATIO to 0.908\n",
      "NOTE:\tIgnoring reference file because it already appears to have been processed.\n",
      "NOTE:\tIf you wish to regenerate the index, please manually delete ref/genome/1/summary.txt\n",
      "Set genome to 1\n",
      "\n",
      "Loaded Reference:\t0.081 seconds.\n",
      "Loading index for chunk 1-1, build 1\n",
      "Generated Index:\t0.601 seconds.\n",
      "Analyzed Index:   \t2.159 seconds.\n",
      "Started output stream:\t0.013 seconds.\n",
      "Cleared Memory:    \t0.278 seconds.\n",
      "Processing reads in single-ended mode.\n",
      "Started read stream.\n",
      "Started 15 mapping threads.\n",
      "Detecting finished threads: 0, 1, 2, 3, 4, 5, 6, 7, 8, 9, 10, 11, 12, 13, 14\n",
      "\n",
      "   ------------------   Results   ------------------   \n",
      "\n",
      "Genome:                \t1\n",
      "Key Length:            \t13\n",
      "Max Indel:             \t16000\n",
      "Minimum Score Ratio:  \t0.9081\n",
      "Mapping Mode:         \tnormal\n",
      "Reads Used:           \t31834807\t(6973439954 bases)\n",
      "\n",
      "Mapping:          \t116.632 seconds.\n",
      "Reads/sec:       \t272951.01\n",
      "kBases/sec:      \t59790.14\n",
      "\n",
      "\n",
      "Read 1 data:      \tpct reads\tnum reads \tpct bases\t   num bases\n",
      "\n",
      "mapped:          \t  0.0478% \t    15212 \t  0.0453% \t     3157967\n",
      "unambiguous:     \t  0.0470% \t    14968 \t  0.0449% \t     3134012\n",
      "ambiguous:       \t  0.0008% \t      244 \t  0.0003% \t       23955\n",
      "low-Q discards:  \t  0.0001% \t       26 \t  0.0000% \t         566\n",
      "\n",
      "perfect best site:\t  0.0358% \t    11396 \t  0.0324% \t     2261063\n",
      "semiperfect site:\t  0.0358% \t    11406 \t  0.0325% \t     2263342\n",
      "\n",
      "Match Rate:      \t      NA \t       NA \t 99.7678% \t     3150739\n",
      "Error Rate:      \t  0.4477% \t     3816 \t  0.2322% \t        7333\n",
      "Sub Rate:        \t  0.4387% \t     3739 \t  0.2252% \t        7112\n",
      "Del Rate:        \t  0.0089% \t       76 \t  0.0033% \t         105\n",
      "Ins Rate:        \t  0.0086% \t       73 \t  0.0037% \t         116\n",
      "N Rate:          \t  0.0000% \t        0 \t  0.0000% \t           0\n",
      "\n",
      "Total time:     \t119.902 seconds.\n"
     ]
    }
   ],
   "source": [
    "!bbmap.sh mappedonly=t minid=0.95 idfilter=0.98 \\\n",
    "in=data/Afinterleaved.trimmed.contam.fq.gz \\\n",
    "ref=data/megahit_outAf/seastar_hit_contigs.fa \\\n",
    "out=data/megahit_outAf/reads2megahit.fq \\\n",
    "threads=15"
   ]
  },
  {
   "cell_type": "code",
   "execution_count": 75,
   "metadata": {
    "collapsed": true
   },
   "outputs": [
    {
     "name": "stdout",
     "output_type": "stream",
     "text": [
      "java -ea -Xmx26501m -Xms26501m -cp /opt/bbmap/current/ jgi.KmerNormalize bits=32 threads=15 in=data/megahit_outAf/reads2megahit.fq target=80 min=1 aec=t out=data/megahit_outAf/reads2megahit.normed.fq\n",
      "Executing jgi.KmerNormalize [bits=32, threads=15, in=data/megahit_outAf/reads2megahit.fq, target=80, min=1, aec=t, out=data/megahit_outAf/reads2megahit.normed.fq]\n",
      "\n",
      "BBNorm version 37.10\n",
      "Set threads to 15\n",
      "\n",
      "   ***********   Pass 1   **********   \n",
      "\n",
      "\n",
      "Settings:\n",
      "threads:          \t15\n",
      "k:                \t31\n",
      "deterministic:    \ttrue\n",
      "toss error reads: \tfalse\n",
      "passes:           \t1\n",
      "bits per cell:    \t16\n",
      "cells:            \t9685.02M\n",
      "hashes:           \t3\n",
      "base min quality: \t5\n",
      "kmer min prob:    \t0.5\n",
      "\n",
      "target depth:     \t320\n",
      "min depth:        \t1\n",
      "max depth:        \t400\n",
      "min good kmers:   \t15\n",
      "depth percentile: \t64.8\n",
      "ignore dupe kmers:\ttrue\n",
      "fix spikes:       \tfalse\n",
      "\n",
      "Made hash table:  \thashes = 3   \t mem = 18.03 GB   \tcells = 9681.01M   \tused = 0.003%\n",
      "\n",
      "Estimated unique kmers:     \t92682\n",
      "\n",
      "Table creation time:\t\t37.818 seconds.\n",
      "Started output threads.\n",
      "Table read time: \t\t0.157 seconds.   \t20142.22 kb/sec\n",
      "Total reads in:  \t\t15212    \t53.786% Kept\n",
      "Total bases in:  \t\t3157967    \t52.441% Kept\n",
      "Error reads in:  \t\t690      \t4.536%\n",
      "Error type 1:    \t\t6        \t0.039%\n",
      "Error type 2:    \t\t670        \t4.404%\n",
      "Error type 3:    \t\t673        \t4.424%\n",
      "\n",
      "During Error Correction:\n",
      "Errors Suspected:\t\t1963\n",
      "Errors Corrected:\t\t400\n",
      "Errors Marked:   \t\t0\n",
      "\n",
      "Total kmers counted:          \t2701647\n",
      "Total unique kmer count:      \t96159\n",
      "Includes forward kmers only.\n",
      "The unique kmer estimate can be more accurate than the unique count, if the tables are very full.\n",
      "The most accurate value is the greater of the two.\n",
      "\n",
      "Percent unique:               \t 3.56%\n",
      "Depth average:                \t28.09\t(unique kmers)\n",
      "Depth median:                 \t1\t(unique kmers)\n",
      "Depth standard deviation:     \t116.89\t(unique kmers)\n",
      "\n",
      "Depth average:                \t514.45\t(all kmers)\n",
      "Depth median:                 \t541\t(all kmers)\n",
      "Depth standard deviation:     \t206.04\t(all kmers)\n",
      "\n",
      "Approx. read depth median:    \t632.39\n",
      "\n",
      "   ***********   Pass 2   **********   \n",
      "\n",
      "\n",
      "Settings:\n",
      "threads:          \t15\n",
      "k:                \t31\n",
      "deterministic:    \ttrue\n",
      "toss error reads: \tfalse\n",
      "passes:           \t1\n",
      "bits per cell:    \t16\n",
      "cells:            \t9685.02M\n",
      "hashes:           \t3\n",
      "base min quality: \t5\n",
      "kmer min prob:    \t0.5\n",
      "\n",
      "target depth:     \t80\n",
      "min depth:        \t1\n",
      "max depth:        \t80\n",
      "min good kmers:   \t15\n",
      "depth percentile: \t54.0\n",
      "ignore dupe kmers:\ttrue\n",
      "fix spikes:       \tfalse\n",
      "\n",
      "Made hash table:  \thashes = 3   \t mem = 18.03 GB   \tcells = 9681.01M   \tused = 0.001%\n",
      "\n",
      "Estimated unique kmers:     \t19373\n",
      "\n",
      "Table creation time:\t\t6.752 seconds.\n",
      "Started output threads.\n",
      "Table read time: \t\t0.036 seconds.   \t46166.57 kb/sec\n",
      "Total reads in:  \t\t8182     \t32.070% Kept\n",
      "Total bases in:  \t\t1656066     \t31.821% Kept\n",
      "Error reads in:  \t\t87       \t1.063%\n",
      "Error type 1:    \t\t6        \t0.073%\n",
      "Error type 2:    \t\t81        \t0.990%\n",
      "Error type 3:    \t\t76        \t0.929%\n",
      "\n",
      "During Error Correction:\n",
      "Errors Suspected:\t\t716\n",
      "Errors Corrected:\t\t3\n",
      "Errors Marked:   \t\t0\n",
      "\n",
      "Total kmers counted:          \t1410606\n",
      "Total unique kmer count:      \t20016\n",
      "Includes forward kmers only.\n",
      "The unique kmer estimate can be more accurate than the unique count, if the tables are very full.\n",
      "The most accurate value is the greater of the two.\n",
      "\n",
      "Percent unique:               \t 1.42%\n",
      "Depth average:                \t70.45\t(unique kmers)\n",
      "Depth median:                 \t1\t(unique kmers)\n",
      "Depth standard deviation:     \t112.63\t(unique kmers)\n",
      "\n",
      "Depth average:                \t250.50\t(all kmers)\n",
      "Depth median:                 \t261\t(all kmers)\n",
      "Depth standard deviation:     \t49.35\t(all kmers)\n",
      "\n",
      "Approx. read depth median:    \t306.42\n",
      "\n",
      "Removing temp files.\n",
      "\n",
      "Total time:      \t\t44.836 seconds.   \t107.37 kb/sec\n"
     ]
    }
   ],
   "source": [
    "!bbnorm.sh threads=15 \\\n",
    "in=data/megahit_outAf/reads2megahit.fq  \\\n",
    "target=80 min=1 aec=t \\\n",
    "out=data/megahit_outAf/reads2megahit.normed.fq "
   ]
  },
  {
   "cell_type": "markdown",
   "metadata": {},
   "source": [
    "### Spades assembly to mapped reads"
   ]
  },
  {
   "cell_type": "code",
   "execution_count": 76,
   "metadata": {
    "collapsed": true
   },
   "outputs": [],
   "source": [
    "!spades.py --thread 20 --12 data/megahit_outAf/reads2megahit.normed.fq   \\\n",
    "-o data/spades_Af_denso >/dev/null"
   ]
  },
  {
   "cell_type": "code",
   "execution_count": null,
   "metadata": {
    "collapsed": true
   },
   "outputs": [],
   "source": [
    "!bbmap.sh threads=15 mappedonly=t minid=0.95 idfilter=0.98 \\\n",
    "in=data/Afinterleaved.trimmed.contam.fq.gz \\\n",
    "ref=data/spades_Af_denso/contigs.fasta \\\n",
    "covstats=data/spades_Af_denso/covstats \\\n",
    "basecov=data/spades_Af_denso/bascov.txt \\\n",
    "covhist=data/spades_Af_denso/hicov.txt"
   ]
  },
  {
   "cell_type": "code",
   "execution_count": 40,
   "metadata": {
    "collapsed": true
   },
   "outputs": [
    {
     "name": "stdout",
     "output_type": "stream",
     "text": [
      "java -Djava.library.path=/opt/bbmap/jni/ -ea -Xmx32599m -cp /opt/bbmap/current/ align2.BBMap build=1 overwrite=true fastareadlen=500 threads=15 mappedonly=t minid=0.95 idfilter=0.98 in=data/Afinterleaved.trimmed.contam.fq.gz ref=data/spades_Af/contigs.fasta out=data/spades_Af/mappedreadsAF.fq\n",
      "Executing align2.BBMap [build=1, overwrite=true, fastareadlen=500, threads=15, mappedonly=t, minid=0.95, idfilter=0.98, in=data/Afinterleaved.trimmed.contam.fq.gz, ref=data/spades_Af/contigs.fasta, out=data/spades_Af/mappedreadsAF.fq]\n",
      "\n",
      "BBMap version 37.10\n",
      "Set threads to 15\n",
      "Set OUTPUT_MAPPED_ONLY to true\n",
      "Retaining first best site only for ambiguous mappings.\n",
      "Set MINIMUM_ALIGNMENT_SCORE_RATIO to 0.908\n",
      "NOTE:\tIgnoring reference file because it already appears to have been processed.\n",
      "NOTE:\tIf you wish to regenerate the index, please manually delete ref/genome/1/summary.txt\n",
      "Set genome to 1\n",
      "\n",
      "Loaded Reference:\t0.064 seconds.\n",
      "Loading index for chunk 1-1, build 1\n",
      "Generated Index:\t0.589 seconds.\n",
      "Analyzed Index:   \t2.078 seconds.\n",
      "Started output stream:\t0.013 seconds.\n",
      "Cleared Memory:    \t0.232 seconds.\n",
      "Processing reads in single-ended mode.\n",
      "Started read stream.\n",
      "Started 15 mapping threads.\n",
      "Detecting finished threads: 0, 1, 2, 3, 4, 5, 6, 7, 8, 9, 10, 11, 12, 13, 14\n",
      "\n",
      "   ------------------   Results   ------------------   \n",
      "\n",
      "Genome:                \t1\n",
      "Key Length:            \t13\n",
      "Max Indel:             \t16000\n",
      "Minimum Score Ratio:  \t0.9081\n",
      "Mapping Mode:         \tnormal\n",
      "Reads Used:           \t31834807\t(6973439954 bases)\n",
      "\n",
      "Mapping:          \t128.159 seconds.\n",
      "Reads/sec:       \t248400.60\n",
      "kBases/sec:      \t54412.35\n",
      "\n",
      "\n",
      "Read 1 data:      \tpct reads\tnum reads \tpct bases\t   num bases\n",
      "\n",
      "mapped:          \t  0.0477% \t    15198 \t  0.0453% \t     3157178\n",
      "unambiguous:     \t  0.0475% \t    15130 \t  0.0452% \t     3150424\n",
      "ambiguous:       \t  0.0002% \t       68 \t  0.0001% \t        6754\n",
      "low-Q discards:  \t  0.0001% \t       26 \t  0.0000% \t         566\n",
      "\n",
      "perfect best site:\t  0.0358% \t    11383 \t  0.0324% \t     2260525\n",
      "semiperfect site:\t  0.0358% \t    11383 \t  0.0324% \t     2260525\n",
      "\n",
      "Match Rate:      \t      NA \t       NA \t 99.7677% \t     3149945\n",
      "Error Rate:      \t 17.5645% \t     3815 \t  0.2323% \t        7335\n",
      "Sub Rate:        \t 17.2099% \t     3738 \t  0.2254% \t        7118\n",
      "Del Rate:        \t  0.3453% \t       75 \t  0.0032% \t         102\n",
      "Ins Rate:        \t  0.3315% \t       72 \t  0.0036% \t         115\n",
      "N Rate:          \t  0.0000% \t        0 \t  0.0000% \t           0\n",
      "\n",
      "Total time:     \t131.272 seconds.\n"
     ]
    }
   ],
   "source": [
    "##Original read mapping\n",
    "!bbmap.sh threads=15 mappedonly=t minid=0.95 idfilter=0.98 \\\n",
    "in=data/Afinterleaved.trimmed.contam.fq.gz \\\n",
    "ref=data/spades_Af_denso/contigs.fasta \\\n",
    "out=data/spades_Af_denso/mappedreadsAF.fq"
   ]
  },
  {
   "cell_type": "code",
   "execution_count": 1,
   "metadata": {
    "collapsed": true
   },
   "outputs": [
    {
     "name": "stdout",
     "output_type": "stream",
     "text": [
      "java -Djava.library.path=/opt/bbmap/jni/ -ea -Xmx12751m -Xms12751m -cp /opt/bbmap/current/ jgi.BBDukF ref=/opt/bbmap/resources/adapters.fa in=data/Afinterleaved.trimmed.contam.fq.gz out=data/Afinterleaved.trimmed.contam.HQ.fq.gz k=30 tbo tpe qtrim=rl trimq=30 overwrite=true\n",
      "Executing jgi.BBDukF [ref=/opt/bbmap/resources/adapters.fa, in=data/Afinterleaved.trimmed.contam.fq.gz, out=data/Afinterleaved.trimmed.contam.HQ.fq.gz, k=30, tbo, tpe, qtrim=rl, trimq=30, overwrite=true]\n",
      "\n",
      "BBDuk version 37.10\n",
      "Initial:\n",
      "Memory: max=12814m, free=12346m, used=468m\n",
      "\n",
      "Added 2957 kmers; time: \t0.218 seconds.\n",
      "Memory: max=12814m, free=11677m, used=1137m\n",
      "\n",
      "Input is being processed as unpaired\n",
      "Started output streams:\t0.268 seconds.\n",
      "Processing time:   \t\t96.526 seconds.\n",
      "\n",
      "Input:                  \t31834807 reads \t\t6973439954 bases.\n",
      "Contaminants:           \t20530 reads (0.06%) \t5035226 bases (0.07%)\n",
      "QTrimmed:               \t23162806 reads (72.76%) \t2827373447 bases (40.54%)\n",
      "Trimmed by overlap:     \t0 reads (0.00%) \t0 bases (0.00%)\n",
      "Total Removed:          \t3315581 reads (10.41%) \t2832408673 bases (40.62%)\n",
      "Result:                 \t28519226 reads (89.59%) \t4141031281 bases (59.38%)\n",
      "\n",
      "Time:   \t\t\t97.075 seconds.\n",
      "Reads Processed:      31834k \t327.94k reads/sec\n",
      "Bases Processed:       6973m \t71.84m bases/sec\n"
     ]
    }
   ],
   "source": [
    "##Isolating High Quality Reads\n",
    "!bbduk.sh ref=/opt/bbmap/resources/adapters.fa \\\n",
    "in=data/Afinterleaved.trimmed.contam.fq.gz \\\n",
    "out=data/Afinterleaved.trimmed.contam.HQ.fq.gz \\\n",
    "k=30 tbo tpe qtrim=rl trimq=30 overwrite=true"
   ]
  },
  {
   "cell_type": "code",
   "execution_count": 2,
   "metadata": {
    "collapsed": true
   },
   "outputs": [
    {
     "name": "stdout",
     "output_type": "stream",
     "text": [
      "java -Djava.library.path=/opt/bbmap/jni/ -ea -Xmx26086m -cp /opt/bbmap/current/ align2.BBMap build=1 overwrite=true fastareadlen=500 threads=15 mappedonly=t minid=0.95 idfilter=0.98 in=data/Afinterleaved.trimmed.contam.HQ.fq.gz ref=data/spades_Af/contigs.fasta out=data/spades_Af/mappedreadsAF.HQ.fq\n",
      "Executing align2.BBMap [build=1, overwrite=true, fastareadlen=500, threads=15, mappedonly=t, minid=0.95, idfilter=0.98, in=data/Afinterleaved.trimmed.contam.HQ.fq.gz, ref=data/spades_Af/contigs.fasta, out=data/spades_Af/mappedreadsAF.HQ.fq]\n",
      "\n",
      "BBMap version 37.10\n",
      "Set threads to 15\n",
      "Set OUTPUT_MAPPED_ONLY to true\n",
      "Retaining first best site only for ambiguous mappings.\n",
      "Set MINIMUM_ALIGNMENT_SCORE_RATIO to 0.908\n",
      "NOTE:\tIgnoring reference file because it already appears to have been processed.\n",
      "NOTE:\tIf you wish to regenerate the index, please manually delete ref/genome/1/summary.txt\n",
      "Set genome to 1\n",
      "\n",
      "Loaded Reference:\t0.161 seconds.\n",
      "Loading index for chunk 1-1, build 1\n",
      "Generated Index:\t0.592 seconds.\n",
      "Analyzed Index:   \t2.065 seconds.\n",
      "Started output stream:\t0.022 seconds.\n",
      "Cleared Memory:    \t0.264 seconds.\n",
      "Processing reads in single-ended mode.\n",
      "Started read stream.\n",
      "Started 15 mapping threads.\n",
      "Detecting finished threads: 0, 1, 2, 3, 4, 5, 6, 7, 8, 9, 10, 11, 12, 13, 14\n",
      "\n",
      "   ------------------   Results   ------------------   \n",
      "\n",
      "Genome:                \t1\n",
      "Key Length:            \t13\n",
      "Max Indel:             \t16000\n",
      "Minimum Score Ratio:  \t0.9081\n",
      "Mapping Mode:         \tnormal\n",
      "Reads Used:           \t28519226\t(4141031281 bases)\n",
      "\n",
      "Mapping:          \t72.292 seconds.\n",
      "Reads/sec:       \t394502.60\n",
      "kBases/sec:      \t57282.33\n",
      "\n",
      "\n",
      "Read 1 data:      \tpct reads\tnum reads \tpct bases\t   num bases\n",
      "\n",
      "mapped:          \t  0.0589% \t    16806 \t  0.0601% \t     2489415\n",
      "unambiguous:     \t  0.0581% \t    16572 \t  0.0597% \t     2473752\n",
      "ambiguous:       \t  0.0008% \t      234 \t  0.0004% \t       15663\n",
      "low-Q discards:  \t  0.0000% \t        0 \t  0.0000% \t           0\n",
      "\n",
      "perfect best site:\t  0.0550% \t    15690 \t  0.0547% \t     2265375\n",
      "semiperfect site:\t  0.0550% \t    15690 \t  0.0547% \t     2265375\n",
      "\n",
      "Match Rate:      \t      NA \t       NA \t 99.9366% \t     2487924\n",
      "Error Rate:      \t  4.8259% \t     1116 \t  0.0634% \t        1579\n",
      "Sub Rate:        \t  4.5146% \t     1044 \t  0.0582% \t        1449\n",
      "Del Rate:        \t  0.2724% \t       63 \t  0.0035% \t          88\n",
      "Ins Rate:        \t  0.1341% \t       31 \t  0.0017% \t          42\n",
      "N Rate:          \t  0.0000% \t        0 \t  0.0000% \t           0\n",
      "\n",
      "Total time:     \t75.585 seconds.\n"
     ]
    }
   ],
   "source": [
    "##Fastq file output\n",
    "!bbmap.sh threads=15 mappedonly=t minid=0.95 idfilter=0.98 \\\n",
    "in=data/Afinterleaved.trimmed.contam.HQ.fq.gz \\\n",
    "ref=data/spades_Af_denso/contigs.fasta \\\n",
    "out=data/spades_Af_denso/mappedreadsAF.HQ.fq"
   ]
  }
 ],
 "metadata": {
  "kernelspec": {
   "display_name": "Python 3",
   "language": "python",
   "name": "python3"
  },
  "language_info": {
   "codemirror_mode": {
    "name": "ipython",
    "version": 3
   },
   "file_extension": ".py",
   "mimetype": "text/x-python",
   "name": "python",
   "nbconvert_exporter": "python",
   "pygments_lexer": "ipython3",
   "version": "3.6.1"
  }
 },
 "nbformat": 4,
 "nbformat_minor": 2
}
